{
  "cells": [
    {
      "cell_type": "markdown",
      "metadata": {
        "id": "QkS5AtrD3L7N"
      },
      "source": [
        "### Import Dependencies"
      ]
    },
    {
      "cell_type": "code",
      "execution_count": 5,
      "metadata": {
        "id": "KhLmUgob3L7T"
      },
      "outputs": [],
      "source": [
        "import numpy as np\n",
        "import pandas as pd\n",
        "import matplotlib.pyplot as plt"
      ]
    },
    {
      "cell_type": "code",
      "source": [
        "from google.colab import drive\n",
        "drive.mount('/content/drive')"
      ],
      "metadata": {
        "colab": {
          "base_uri": "https://localhost:8080/"
        },
        "id": "cFZ34LDd3QRq",
        "outputId": "2d1ac3ce-e744-4b47-9b56-6ea6ab2b4c27"
      },
      "execution_count": 6,
      "outputs": [
        {
          "output_type": "stream",
          "name": "stdout",
          "text": [
            "Drive already mounted at /content/drive; to attempt to forcibly remount, call drive.mount(\"/content/drive\", force_remount=True).\n"
          ]
        }
      ]
    },
    {
      "cell_type": "code",
      "execution_count": 7,
      "metadata": {
        "id": "v3sglc5c3L7V"
      },
      "outputs": [],
      "source": [
        "import torch\n",
        "from torchvision import datasets, transforms, models  # datsets  , transforms\n",
        "from torch.utils.data.sampler import SubsetRandomSampler\n",
        "import torch.nn as nn\n",
        "import torch.nn.functional as F\n",
        "from datetime import datetime"
      ]
    },
    {
      "cell_type": "markdown",
      "metadata": {
        "id": "C1kqw3tc3L7Y"
      },
      "source": [
        "### Import Dataset"
      ]
    },
    {
      "cell_type": "markdown",
      "metadata": {
        "id": "4JSKqAi93L7Z"
      },
      "source": [
        "<b> Dataset Link (Plant Vliiage Dataset ):</b><br> <a href='https://data.mendeley.com/datasets/tywbtsjrjv/1'> https://data.mendeley.com/datasets/tywbtsjrjv/1 </a> "
      ]
    },
    {
      "cell_type": "code",
      "execution_count": null,
      "metadata": {
        "id": "6KcGtx-03L7a"
      },
      "outputs": [],
      "source": [
        "# transform = transforms.Compose(\n",
        "#     [transforms.Resize(255), transforms.CenterCrop(224), transforms.ToTensor()]\n",
        "# )"
      ]
    },
    {
      "cell_type": "code",
      "execution_count": null,
      "metadata": {
        "id": "0rnET0MD3L7b"
      },
      "outputs": [],
      "source": [
        "# dataset = datasets.ImageFolder(\"Dataset\", transform=transform)"
      ]
    },
    {
      "cell_type": "code",
      "execution_count": null,
      "metadata": {
        "id": "cW7imp6M3L7c"
      },
      "outputs": [],
      "source": [
        "# dataset"
      ]
    },
    {
      "cell_type": "code",
      "source": [
        "!pip install rarfile  # Install the rarfile package if it's not already installed\n",
        "\n",
        "import os\n",
        "from rarfile import RarFile\n",
        "from torchvision import transforms, datasets\n",
        "\n",
        "\n",
        "\n",
        "# Define the path to the RAR file\n",
        "rar_path = '/content/drive/MyDrive/Dataset.rar'\n",
        "\n",
        "# Extract the RAR file to a temporary directory\n",
        "with RarFile(rar_path, 'r') as rar:\n",
        "    rar.extractall('/tmp/dataset')\n",
        "\n",
        "# Define the transform to apply to the images\n",
        "transform = transforms.Compose([\n",
        "    transforms.Resize(255),\n",
        "    transforms.CenterCrop(224),\n",
        "    transforms.ToTensor()\n",
        "])\n",
        "\n",
        "# Create the PyTorch dataset from the extracted images\n",
        "dataset = datasets.ImageFolder('/tmp/dataset', transform=transform)\n"
      ],
      "metadata": {
        "colab": {
          "base_uri": "https://localhost:8080/"
        },
        "id": "gvd5Sm-k5Ewf",
        "outputId": "0bdd28fe-4be6-4867-f36c-a4d93eb4bf24"
      },
      "execution_count": 8,
      "outputs": [
        {
          "output_type": "stream",
          "name": "stdout",
          "text": [
            "Looking in indexes: https://pypi.org/simple, https://us-python.pkg.dev/colab-wheels/public/simple/\n",
            "Requirement already satisfied: rarfile in /usr/local/lib/python3.9/dist-packages (4.0)\n"
          ]
        }
      ]
    },
    {
      "cell_type": "code",
      "source": [
        "dataset"
      ],
      "metadata": {
        "colab": {
          "base_uri": "https://localhost:8080/"
        },
        "id": "KBrSMmKvZdkx",
        "outputId": "6e25d4c6-c0b7-46da-d67b-465344da7561"
      },
      "execution_count": 9,
      "outputs": [
        {
          "output_type": "execute_result",
          "data": {
            "text/plain": [
              "Dataset ImageFolder\n",
              "    Number of datapoints: 55448\n",
              "    Root location: /tmp/dataset\n",
              "    StandardTransform\n",
              "Transform: Compose(\n",
              "               Resize(size=255, interpolation=bilinear, max_size=None, antialias=warn)\n",
              "               CenterCrop(size=(224, 224))\n",
              "               ToTensor()\n",
              "           )"
            ]
          },
          "metadata": {},
          "execution_count": 9
        }
      ]
    },
    {
      "cell_type": "code",
      "execution_count": 10,
      "metadata": {
        "id": "8QEFbILy3L7d"
      },
      "outputs": [],
      "source": [
        "indices = list(range(len(dataset)))\n"
      ]
    },
    {
      "cell_type": "code",
      "execution_count": 11,
      "metadata": {
        "id": "fxoAiPCz3L7e"
      },
      "outputs": [],
      "source": [
        "split = int(np.floor(0.85 * len(dataset)))  # train_size"
      ]
    },
    {
      "cell_type": "code",
      "execution_count": 12,
      "metadata": {
        "id": "ZCEe6sAT3L7f"
      },
      "outputs": [],
      "source": [
        "validation = int(np.floor(0.70 * split))  # validation"
      ]
    },
    {
      "cell_type": "code",
      "execution_count": 13,
      "metadata": {
        "colab": {
          "base_uri": "https://localhost:8080/"
        },
        "id": "Bc_T_YCn3L7g",
        "outputId": "4b0f3228-cf6d-4bfa-b2aa-e45f27465be3"
      },
      "outputs": [
        {
          "output_type": "stream",
          "name": "stdout",
          "text": [
            "0 32991 47130 55448\n"
          ]
        }
      ],
      "source": [
        "print(0, validation, split, len(dataset))"
      ]
    },
    {
      "cell_type": "code",
      "execution_count": 14,
      "metadata": {
        "colab": {
          "base_uri": "https://localhost:8080/"
        },
        "id": "V_A-Oh4G3L7g",
        "outputId": "75ad613a-2c66-4b3c-fe17-2217bde97f33"
      },
      "outputs": [
        {
          "output_type": "stream",
          "name": "stdout",
          "text": [
            "length of train size :32991\n",
            "length of validation size :14139\n",
            "length of test size :22457\n"
          ]
        }
      ],
      "source": [
        "print(f\"length of train size :{validation}\")\n",
        "print(f\"length of validation size :{split - validation}\")\n",
        "print(f\"length of test size :{len(dataset)-validation}\")"
      ]
    },
    {
      "cell_type": "code",
      "execution_count": 15,
      "metadata": {
        "id": "lZh3lWan3L7h"
      },
      "outputs": [],
      "source": [
        "np.random.shuffle(indices)"
      ]
    },
    {
      "cell_type": "markdown",
      "metadata": {
        "id": "HCSEbX4Z3L7i"
      },
      "source": [
        "### Split into Train and Test"
      ]
    },
    {
      "cell_type": "code",
      "execution_count": 16,
      "metadata": {
        "id": "0PnUgdbt3L7i"
      },
      "outputs": [],
      "source": [
        "train_indices, validation_indices, test_indices = (\n",
        "    indices[:validation],\n",
        "    indices[validation:split],\n",
        "    indices[split:],\n",
        ")"
      ]
    },
    {
      "cell_type": "code",
      "execution_count": 17,
      "metadata": {
        "id": "Keyo61F93L7j"
      },
      "outputs": [],
      "source": [
        "train_sampler = SubsetRandomSampler(train_indices)\n",
        "validation_sampler = SubsetRandomSampler(validation_indices)\n",
        "test_sampler = SubsetRandomSampler(test_indices)"
      ]
    },
    {
      "cell_type": "code",
      "execution_count": 18,
      "metadata": {
        "id": "47SSOc8K3L7j"
      },
      "outputs": [],
      "source": [
        "targets_size = len(dataset.class_to_idx)"
      ]
    },
    {
      "cell_type": "markdown",
      "metadata": {
        "id": "tBnhfj_a3L7k"
      },
      "source": [
        "### Model"
      ]
    },
    {
      "cell_type": "markdown",
      "metadata": {
        "id": "eFsdE3ru3L7k"
      },
      "source": [
        "<b>Convolution Aithmetic Equation : </b>(W - F + 2P) / S + 1 <br>\n",
        "W = Input Size<br>\n",
        "F = Filter Size<br>\n",
        "P = Padding Size<br>\n",
        "S = Stride <br>"
      ]
    },
    {
      "cell_type": "markdown",
      "metadata": {
        "id": "bj18UBs-3L7l"
      },
      "source": [
        "### Transfer Learning"
      ]
    },
    {
      "cell_type": "code",
      "execution_count": null,
      "metadata": {
        "id": "KZWV__dE3L7l"
      },
      "outputs": [],
      "source": [
        "# model = models.vgg16(pretrained=True)"
      ]
    },
    {
      "cell_type": "code",
      "execution_count": null,
      "metadata": {
        "id": "wGp0xMe-3L7m"
      },
      "outputs": [],
      "source": [
        "# for params in model.parameters():\n",
        "#     params.requires_grad = False"
      ]
    },
    {
      "cell_type": "code",
      "execution_count": null,
      "metadata": {
        "id": "_xGfjQFR3L7m"
      },
      "outputs": [],
      "source": [
        "# model"
      ]
    },
    {
      "cell_type": "code",
      "execution_count": null,
      "metadata": {
        "id": "_Okj6Y4t3L7m"
      },
      "outputs": [],
      "source": [
        "# n_features = model.classifier[0].in_features\n",
        "# n_features"
      ]
    },
    {
      "cell_type": "code",
      "execution_count": 19,
      "metadata": {
        "id": "wpmwPHQx3L7n"
      },
      "outputs": [],
      "source": [
        "# model.classifier = nn.Sequential(\n",
        "#     nn.Linear(n_features, 1024),\n",
        "#     nn.ReLU(),\n",
        "#     nn.Dropout(0.4),\n",
        "#     nn.Linear(1024, targets_size),\n",
        "# )"
      ]
    },
    {
      "cell_type": "code",
      "execution_count": null,
      "metadata": {
        "id": "tsYjJ0W73L7n"
      },
      "outputs": [],
      "source": [
        "# model"
      ]
    },
    {
      "cell_type": "markdown",
      "metadata": {
        "id": "gim2ea923L7o"
      },
      "source": [
        "### Original Modeling"
      ]
    },
    {
      "cell_type": "code",
      "execution_count": 20,
      "metadata": {
        "id": "kE4zXxsn3L7o"
      },
      "outputs": [],
      "source": [
        "class CNN(nn.Module):\n",
        "    def __init__(self, K):\n",
        "        super(CNN, self).__init__()\n",
        "        self.conv_layers = nn.Sequential(\n",
        "            # conv1\n",
        "            nn.Conv2d(in_channels=3, out_channels=32, kernel_size=3, padding=1),\n",
        "            nn.ReLU(),\n",
        "            nn.BatchNorm2d(32),\n",
        "            nn.Conv2d(in_channels=32, out_channels=32, kernel_size=3, padding=1),\n",
        "            nn.ReLU(),\n",
        "            nn.BatchNorm2d(32),\n",
        "            nn.MaxPool2d(2),\n",
        "            # conv2\n",
        "            nn.Conv2d(in_channels=32, out_channels=64, kernel_size=3, padding=1),\n",
        "            nn.ReLU(),\n",
        "            nn.BatchNorm2d(64),\n",
        "            nn.Conv2d(in_channels=64, out_channels=64, kernel_size=3, padding=1),\n",
        "            nn.ReLU(),\n",
        "            nn.BatchNorm2d(64),\n",
        "            nn.MaxPool2d(2),\n",
        "            # conv3\n",
        "            nn.Conv2d(in_channels=64, out_channels=128, kernel_size=3, padding=1),\n",
        "            nn.ReLU(),\n",
        "            nn.BatchNorm2d(128),\n",
        "            nn.Conv2d(in_channels=128, out_channels=128, kernel_size=3, padding=1),\n",
        "            nn.ReLU(),\n",
        "            nn.BatchNorm2d(128),\n",
        "            nn.MaxPool2d(2),\n",
        "            # conv4\n",
        "            nn.Conv2d(in_channels=128, out_channels=256, kernel_size=3, padding=1),\n",
        "            nn.ReLU(),\n",
        "            nn.BatchNorm2d(256),\n",
        "            nn.Conv2d(in_channels=256, out_channels=256, kernel_size=3, padding=1),\n",
        "            nn.ReLU(),\n",
        "            nn.BatchNorm2d(256),\n",
        "            nn.MaxPool2d(2),\n",
        "        )\n",
        "\n",
        "        self.dense_layers = nn.Sequential(\n",
        "            nn.Dropout(0.4),\n",
        "            nn.Linear(50176, 1024),\n",
        "            nn.ReLU(),\n",
        "            nn.Dropout(0.4),\n",
        "            nn.Linear(1024, K),\n",
        "        )\n",
        "\n",
        "    def forward(self, X):\n",
        "        out = self.conv_layers(X)\n",
        "\n",
        "        # Flatten\n",
        "        out = out.view(-1, 50176)\n",
        "\n",
        "        # Fully connected\n",
        "        out = self.dense_layers(out)\n",
        "\n",
        "        return out"
      ]
    },
    {
      "cell_type": "code",
      "execution_count": 21,
      "metadata": {
        "id": "VTPS9dua3L7p",
        "colab": {
          "base_uri": "https://localhost:8080/"
        },
        "outputId": "db37fb2b-682f-4f70-8fdd-3d5a94126616"
      },
      "outputs": [
        {
          "output_type": "stream",
          "name": "stdout",
          "text": [
            "cuda\n"
          ]
        }
      ],
      "source": [
        "device = torch.device(\"cuda\" if torch.cuda.is_available() else \"cpu\")\n",
        "print(device)"
      ]
    },
    {
      "cell_type": "code",
      "execution_count": 22,
      "metadata": {
        "id": "Moli5FN23L7p",
        "colab": {
          "base_uri": "https://localhost:8080/"
        },
        "outputId": "deb6c56c-b426-40ee-a500-e6d9fd8ebfd4"
      },
      "outputs": [
        {
          "output_type": "stream",
          "name": "stdout",
          "text": [
            "cuda\n",
            "Using GPU: Tesla T4\n"
          ]
        }
      ],
      "source": [
        "print(device)\n",
        "device = torch.device(\"cuda\")\n",
        "print('Using GPU:', torch.cuda.get_device_name(0))"
      ]
    },
    {
      "cell_type": "code",
      "execution_count": 23,
      "metadata": {
        "id": "ex7X1-je3L7q"
      },
      "outputs": [],
      "source": [
        "model = CNN(targets_size)"
      ]
    },
    {
      "cell_type": "code",
      "execution_count": 24,
      "metadata": {
        "id": "KzM1NYnp3L7q",
        "colab": {
          "base_uri": "https://localhost:8080/"
        },
        "outputId": "878c9139-6cf9-42aa-b229-05b0267426f8"
      },
      "outputs": [
        {
          "output_type": "execute_result",
          "data": {
            "text/plain": [
              "CNN(\n",
              "  (conv_layers): Sequential(\n",
              "    (0): Conv2d(3, 32, kernel_size=(3, 3), stride=(1, 1), padding=(1, 1))\n",
              "    (1): ReLU()\n",
              "    (2): BatchNorm2d(32, eps=1e-05, momentum=0.1, affine=True, track_running_stats=True)\n",
              "    (3): Conv2d(32, 32, kernel_size=(3, 3), stride=(1, 1), padding=(1, 1))\n",
              "    (4): ReLU()\n",
              "    (5): BatchNorm2d(32, eps=1e-05, momentum=0.1, affine=True, track_running_stats=True)\n",
              "    (6): MaxPool2d(kernel_size=2, stride=2, padding=0, dilation=1, ceil_mode=False)\n",
              "    (7): Conv2d(32, 64, kernel_size=(3, 3), stride=(1, 1), padding=(1, 1))\n",
              "    (8): ReLU()\n",
              "    (9): BatchNorm2d(64, eps=1e-05, momentum=0.1, affine=True, track_running_stats=True)\n",
              "    (10): Conv2d(64, 64, kernel_size=(3, 3), stride=(1, 1), padding=(1, 1))\n",
              "    (11): ReLU()\n",
              "    (12): BatchNorm2d(64, eps=1e-05, momentum=0.1, affine=True, track_running_stats=True)\n",
              "    (13): MaxPool2d(kernel_size=2, stride=2, padding=0, dilation=1, ceil_mode=False)\n",
              "    (14): Conv2d(64, 128, kernel_size=(3, 3), stride=(1, 1), padding=(1, 1))\n",
              "    (15): ReLU()\n",
              "    (16): BatchNorm2d(128, eps=1e-05, momentum=0.1, affine=True, track_running_stats=True)\n",
              "    (17): Conv2d(128, 128, kernel_size=(3, 3), stride=(1, 1), padding=(1, 1))\n",
              "    (18): ReLU()\n",
              "    (19): BatchNorm2d(128, eps=1e-05, momentum=0.1, affine=True, track_running_stats=True)\n",
              "    (20): MaxPool2d(kernel_size=2, stride=2, padding=0, dilation=1, ceil_mode=False)\n",
              "    (21): Conv2d(128, 256, kernel_size=(3, 3), stride=(1, 1), padding=(1, 1))\n",
              "    (22): ReLU()\n",
              "    (23): BatchNorm2d(256, eps=1e-05, momentum=0.1, affine=True, track_running_stats=True)\n",
              "    (24): Conv2d(256, 256, kernel_size=(3, 3), stride=(1, 1), padding=(1, 1))\n",
              "    (25): ReLU()\n",
              "    (26): BatchNorm2d(256, eps=1e-05, momentum=0.1, affine=True, track_running_stats=True)\n",
              "    (27): MaxPool2d(kernel_size=2, stride=2, padding=0, dilation=1, ceil_mode=False)\n",
              "  )\n",
              "  (dense_layers): Sequential(\n",
              "    (0): Dropout(p=0.4, inplace=False)\n",
              "    (1): Linear(in_features=50176, out_features=1024, bias=True)\n",
              "    (2): ReLU()\n",
              "    (3): Dropout(p=0.4, inplace=False)\n",
              "    (4): Linear(in_features=1024, out_features=1, bias=True)\n",
              "  )\n",
              ")"
            ]
          },
          "metadata": {},
          "execution_count": 24
        }
      ],
      "source": [
        "model.to(device)"
      ]
    },
    {
      "cell_type": "code",
      "execution_count": 25,
      "metadata": {
        "id": "BQNdAjky3L7r",
        "colab": {
          "base_uri": "https://localhost:8080/"
        },
        "outputId": "157b3316-6d34-435f-d844-79b13786bd5c"
      },
      "outputs": [
        {
          "output_type": "stream",
          "name": "stdout",
          "text": [
            "----------------------------------------------------------------\n",
            "        Layer (type)               Output Shape         Param #\n",
            "================================================================\n",
            "            Conv2d-1         [-1, 32, 224, 224]             896\n",
            "              ReLU-2         [-1, 32, 224, 224]               0\n",
            "       BatchNorm2d-3         [-1, 32, 224, 224]              64\n",
            "            Conv2d-4         [-1, 32, 224, 224]           9,248\n",
            "              ReLU-5         [-1, 32, 224, 224]               0\n",
            "       BatchNorm2d-6         [-1, 32, 224, 224]              64\n",
            "         MaxPool2d-7         [-1, 32, 112, 112]               0\n",
            "            Conv2d-8         [-1, 64, 112, 112]          18,496\n",
            "              ReLU-9         [-1, 64, 112, 112]               0\n",
            "      BatchNorm2d-10         [-1, 64, 112, 112]             128\n",
            "           Conv2d-11         [-1, 64, 112, 112]          36,928\n",
            "             ReLU-12         [-1, 64, 112, 112]               0\n",
            "      BatchNorm2d-13         [-1, 64, 112, 112]             128\n",
            "        MaxPool2d-14           [-1, 64, 56, 56]               0\n",
            "           Conv2d-15          [-1, 128, 56, 56]          73,856\n",
            "             ReLU-16          [-1, 128, 56, 56]               0\n",
            "      BatchNorm2d-17          [-1, 128, 56, 56]             256\n",
            "           Conv2d-18          [-1, 128, 56, 56]         147,584\n",
            "             ReLU-19          [-1, 128, 56, 56]               0\n",
            "      BatchNorm2d-20          [-1, 128, 56, 56]             256\n",
            "        MaxPool2d-21          [-1, 128, 28, 28]               0\n",
            "           Conv2d-22          [-1, 256, 28, 28]         295,168\n",
            "             ReLU-23          [-1, 256, 28, 28]               0\n",
            "      BatchNorm2d-24          [-1, 256, 28, 28]             512\n",
            "           Conv2d-25          [-1, 256, 28, 28]         590,080\n",
            "             ReLU-26          [-1, 256, 28, 28]               0\n",
            "      BatchNorm2d-27          [-1, 256, 28, 28]             512\n",
            "        MaxPool2d-28          [-1, 256, 14, 14]               0\n",
            "          Dropout-29                [-1, 50176]               0\n",
            "           Linear-30                 [-1, 1024]      51,381,248\n",
            "             ReLU-31                 [-1, 1024]               0\n",
            "          Dropout-32                 [-1, 1024]               0\n",
            "           Linear-33                    [-1, 1]           1,025\n",
            "================================================================\n",
            "Total params: 52,556,449\n",
            "Trainable params: 52,556,449\n",
            "Non-trainable params: 0\n",
            "----------------------------------------------------------------\n",
            "Input size (MB): 0.57\n",
            "Forward/backward pass size (MB): 143.96\n",
            "Params size (MB): 200.49\n",
            "Estimated Total Size (MB): 345.02\n",
            "----------------------------------------------------------------\n"
          ]
        }
      ],
      "source": [
        "from torchsummary import summary\n",
        "\n",
        "summary(model, (3, 224, 224))"
      ]
    },
    {
      "cell_type": "code",
      "execution_count": 26,
      "metadata": {
        "id": "YmOwE0el3L7r"
      },
      "outputs": [],
      "source": [
        "criterion = nn.CrossEntropyLoss()  # this include softmax + cross entropy loss\n",
        "optimizer = torch.optim.Adam(model.parameters())"
      ]
    },
    {
      "cell_type": "markdown",
      "metadata": {
        "id": "iDdkWU_c3L7s"
      },
      "source": [
        "### Batch Gradient Descent"
      ]
    },
    {
      "cell_type": "code",
      "execution_count": 27,
      "metadata": {
        "id": "M-J0O20H3L7t"
      },
      "outputs": [],
      "source": [
        "def batch_gd(model, criterion, train_loader, test_loader, epochs):\n",
        "    train_losses = np.zeros(epochs)\n",
        "    validation_losses = np.zeros(epochs)\n",
        "\n",
        "    for e in range(epochs):\n",
        "        t0 = datetime.now()\n",
        "        train_loss = []\n",
        "        for inputs, targets in train_loader:\n",
        "            inputs, targets = inputs.to(device), targets.to(device)\n",
        "\n",
        "            optimizer.zero_grad()\n",
        "\n",
        "            output = model(inputs)\n",
        "\n",
        "            loss = criterion(output, targets)\n",
        "\n",
        "            train_loss.append(loss.item())  # torch to numpy world\n",
        "\n",
        "            loss.backward()\n",
        "            optimizer.step()\n",
        "\n",
        "        train_loss = np.mean(train_loss)\n",
        "\n",
        "        validation_loss = []\n",
        "\n",
        "        for inputs, targets in test_loader:\n",
        "\n",
        "            inputs, targets = inputs.to(device), targets.to(device)\n",
        "\n",
        "            output = model(inputs)\n",
        "\n",
        "            loss = criterion(output, targets)\n",
        "\n",
        "            validation_loss.append(loss.item())  # torch to numpy world\n",
        "\n",
        "        validation_loss = np.mean(validation_loss)\n",
        "\n",
        "        train_losses[e] = train_loss\n",
        "        validation_losses[e] = validation_loss\n",
        "\n",
        "        dt = datetime.now() - t0\n",
        "\n",
        "        print(\n",
        "            f\"Epoch : {e+1}/{epochs} Train_loss:{train_loss:.3f} Test_loss:{validation_loss:.3f} Duration:{dt}\"\n",
        "        )\n",
        "\n",
        "    return train_losses, validation_losses"
      ]
    },
    {
      "cell_type": "code",
      "execution_count": null,
      "metadata": {
        "id": "rteBHvbf3L7t"
      },
      "outputs": [],
      "source": [
        "# device = \"cpu\""
      ]
    },
    {
      "cell_type": "code",
      "execution_count": 28,
      "metadata": {
        "id": "Kzk5p6Wa3L7t"
      },
      "outputs": [],
      "source": [
        "batch_size = 64\n",
        "train_loader = torch.utils.data.DataLoader(\n",
        "    dataset, batch_size=batch_size, sampler=train_sampler\n",
        ")\n",
        "test_loader = torch.utils.data.DataLoader(\n",
        "    dataset, batch_size=batch_size, sampler=test_sampler\n",
        ")\n",
        "validation_loader = torch.utils.data.DataLoader(\n",
        "    dataset, batch_size=batch_size, sampler=validation_sampler\n",
        ")"
      ]
    },
    {
      "cell_type": "code",
      "execution_count": 30,
      "metadata": {
        "id": "zSEklapR3L7u",
        "colab": {
          "base_uri": "https://localhost:8080/"
        },
        "outputId": "75654baa-1c7b-4003-8949-8c212411614b"
      },
      "outputs": [
        {
          "output_type": "stream",
          "name": "stdout",
          "text": [
            "Epoch : 1/10 Train_loss:0.000 Test_loss:0.000 Duration:0:04:41.604614\n",
            "Epoch : 2/10 Train_loss:0.000 Test_loss:0.000 Duration:0:04:44.822340\n",
            "Epoch : 3/10 Train_loss:0.000 Test_loss:0.000 Duration:0:04:44.488231\n",
            "Epoch : 4/10 Train_loss:0.000 Test_loss:0.000 Duration:0:04:44.083006\n",
            "Epoch : 5/10 Train_loss:0.000 Test_loss:0.000 Duration:0:04:43.714151\n",
            "Epoch : 6/10 Train_loss:0.000 Test_loss:0.000 Duration:0:04:44.816115\n",
            "Epoch : 7/10 Train_loss:0.000 Test_loss:0.000 Duration:0:04:45.845728\n",
            "Epoch : 8/10 Train_loss:0.000 Test_loss:0.000 Duration:0:04:45.888582\n",
            "Epoch : 9/10 Train_loss:0.000 Test_loss:0.000 Duration:0:04:45.124338\n",
            "Epoch : 10/10 Train_loss:0.000 Test_loss:0.000 Duration:0:04:45.867158\n"
          ]
        }
      ],
      "source": [
        "train_losses, validation_losses = batch_gd(\n",
        "    model, criterion, train_loader, validation_loader, 10\n",
        ")"
      ]
    },
    {
      "cell_type": "markdown",
      "metadata": {
        "id": "_G6THd0L3L7u"
      },
      "source": [
        "### Save the Model"
      ]
    },
    {
      "cell_type": "code",
      "execution_count": 31,
      "metadata": {
        "id": "BHWits_Y3L7v"
      },
      "outputs": [],
      "source": [
        "torch.save(model.state_dict(), \"plant_disease_model_1.pt\")"
      ]
    },
    {
      "cell_type": "markdown",
      "metadata": {
        "id": "by0x-lGz3L7v"
      },
      "source": [
        "### Load Model"
      ]
    },
    {
      "cell_type": "code",
      "execution_count": 38,
      "metadata": {
        "id": "GcIjAVt23L7w",
        "outputId": "cc304f2c-fdf9-4114-83e5-16e372783ec4",
        "colab": {
          "base_uri": "https://localhost:8080/"
        }
      },
      "outputs": [
        {
          "output_type": "execute_result",
          "data": {
            "text/plain": [
              "CNN(\n",
              "  (conv_layers): Sequential(\n",
              "    (0): Conv2d(3, 32, kernel_size=(3, 3), stride=(1, 1), padding=(1, 1))\n",
              "    (1): ReLU()\n",
              "    (2): BatchNorm2d(32, eps=1e-05, momentum=0.1, affine=True, track_running_stats=True)\n",
              "    (3): Conv2d(32, 32, kernel_size=(3, 3), stride=(1, 1), padding=(1, 1))\n",
              "    (4): ReLU()\n",
              "    (5): BatchNorm2d(32, eps=1e-05, momentum=0.1, affine=True, track_running_stats=True)\n",
              "    (6): MaxPool2d(kernel_size=2, stride=2, padding=0, dilation=1, ceil_mode=False)\n",
              "    (7): Conv2d(32, 64, kernel_size=(3, 3), stride=(1, 1), padding=(1, 1))\n",
              "    (8): ReLU()\n",
              "    (9): BatchNorm2d(64, eps=1e-05, momentum=0.1, affine=True, track_running_stats=True)\n",
              "    (10): Conv2d(64, 64, kernel_size=(3, 3), stride=(1, 1), padding=(1, 1))\n",
              "    (11): ReLU()\n",
              "    (12): BatchNorm2d(64, eps=1e-05, momentum=0.1, affine=True, track_running_stats=True)\n",
              "    (13): MaxPool2d(kernel_size=2, stride=2, padding=0, dilation=1, ceil_mode=False)\n",
              "    (14): Conv2d(64, 128, kernel_size=(3, 3), stride=(1, 1), padding=(1, 1))\n",
              "    (15): ReLU()\n",
              "    (16): BatchNorm2d(128, eps=1e-05, momentum=0.1, affine=True, track_running_stats=True)\n",
              "    (17): Conv2d(128, 128, kernel_size=(3, 3), stride=(1, 1), padding=(1, 1))\n",
              "    (18): ReLU()\n",
              "    (19): BatchNorm2d(128, eps=1e-05, momentum=0.1, affine=True, track_running_stats=True)\n",
              "    (20): MaxPool2d(kernel_size=2, stride=2, padding=0, dilation=1, ceil_mode=False)\n",
              "    (21): Conv2d(128, 256, kernel_size=(3, 3), stride=(1, 1), padding=(1, 1))\n",
              "    (22): ReLU()\n",
              "    (23): BatchNorm2d(256, eps=1e-05, momentum=0.1, affine=True, track_running_stats=True)\n",
              "    (24): Conv2d(256, 256, kernel_size=(3, 3), stride=(1, 1), padding=(1, 1))\n",
              "    (25): ReLU()\n",
              "    (26): BatchNorm2d(256, eps=1e-05, momentum=0.1, affine=True, track_running_stats=True)\n",
              "    (27): MaxPool2d(kernel_size=2, stride=2, padding=0, dilation=1, ceil_mode=False)\n",
              "  )\n",
              "  (dense_layers): Sequential(\n",
              "    (0): Dropout(p=0.4, inplace=False)\n",
              "    (1): Linear(in_features=50176, out_features=1024, bias=True)\n",
              "    (2): ReLU()\n",
              "    (3): Dropout(p=0.4, inplace=False)\n",
              "    (4): Linear(in_features=1024, out_features=1, bias=True)\n",
              "  )\n",
              ")"
            ]
          },
          "metadata": {},
          "execution_count": 38
        }
      ],
      "source": [
        "targets_size = 1\n",
        "model = CNN(targets_size)\n",
        "model.load_state_dict(torch.load(\"/content/plant_disease_model_1.pt\"))\n",
        "model.eval()"
      ]
    },
    {
      "cell_type": "code",
      "execution_count": null,
      "metadata": {
        "id": "9Qhe7pd03L7w",
        "outputId": "c9dd8a67-82a1-42c2-be3f-6437e5efbe4d"
      },
      "outputs": [
        {
          "data": {
            "application/javascript": [
              "\n",
              "            setTimeout(function() {\n",
              "                var nbb_cell_id = 41;\n",
              "                var nbb_unformatted_code = \"# %matplotlib notebook\";\n",
              "                var nbb_formatted_code = \"# %matplotlib notebook\";\n",
              "                var nbb_cells = Jupyter.notebook.get_cells();\n",
              "                for (var i = 0; i < nbb_cells.length; ++i) {\n",
              "                    if (nbb_cells[i].input_prompt_number == nbb_cell_id) {\n",
              "                        if (nbb_cells[i].get_text() == nbb_unformatted_code) {\n",
              "                             nbb_cells[i].set_text(nbb_formatted_code);\n",
              "                        }\n",
              "                        break;\n",
              "                    }\n",
              "                }\n",
              "            }, 500);\n",
              "            "
            ],
            "text/plain": [
              "<IPython.core.display.Javascript object>"
            ]
          },
          "metadata": {},
          "output_type": "display_data"
        }
      ],
      "source": [
        "# %matplotlib notebook"
      ]
    },
    {
      "cell_type": "markdown",
      "metadata": {
        "id": "ybVsRGCJ3L7x"
      },
      "source": [
        "### Plot the loss"
      ]
    },
    {
      "cell_type": "code",
      "execution_count": 39,
      "metadata": {
        "id": "VE9pKsFo3L7x",
        "outputId": "fe32526f-2aa2-48aa-d3bc-1f4b7d18118c",
        "colab": {
          "base_uri": "https://localhost:8080/",
          "height": 449
        }
      },
      "outputs": [
        {
          "output_type": "display_data",
          "data": {
            "text/plain": [
              "<Figure size 640x480 with 1 Axes>"
            ],
            "image/png": "[encoded data removed]"
          },
          "metadata": {}
        }
      ],
      "source": [
        "plt.plot(train_losses, label=\"train_loss\")\n",
        "plt.plot(validation_losses, label=\"validation_loss\")\n",
        "plt.xlabel(\"No of Epochs\")\n",
        "plt.ylabel(\"Loss\")\n",
        "plt.legend()\n",
        "plt.show()"
      ]
    },
    {
      "cell_type": "markdown",
      "metadata": {
        "id": "gMHm2koa3L7y"
      },
      "source": [
        "### Accuracy"
      ]
    },
    {
      "cell_type": "code",
      "execution_count": 51,
      "metadata": {
        "id": "3-TuyT_o3L7y"
      },
      "outputs": [],
      "source": [
        "# def accuracy(loader):\n",
        "#     n_correct = 0\n",
        "#     n_total = 0\n",
        "\n",
        "#     for inputs, targets in loader:\n",
        "#         inputs, targets = inputs.cuda(), targets.cuda()\n",
        "\n",
        "#         outputs = model(inputs)\n",
        "\n",
        "#         _, predictions = torch.max(outputs, 1)\n",
        "\n",
        "#         n_correct += (predictions == targets).sum().item()\n",
        "#         n_total += targets.shape[0]\n",
        "\n",
        "#     acc = n_correct / n_total\n",
        "#     return acc\n",
        "def accuracy(loader, model):\n",
        "    n_correct = 0\n",
        "    n_total = 0\n",
        "\n",
        "    for inputs, targets in loader:\n",
        "        inputs, targets = inputs.cuda(), targets.cuda()\n",
        "        model = model.cuda()\n",
        "        outputs = model(inputs)\n",
        "\n",
        "        _, predictions = torch.max(outputs, 1)\n",
        "\n",
        "        n_correct += (predictions == targets).sum().item()\n",
        "        n_total += targets.shape[0]\n",
        "\n",
        "    acc = n_correct / n_total\n",
        "    return acc\n",
        "\n",
        "train_acc = accuracy(train_loader, model)\n",
        "test_acc = accuracy(test_loader, model)\n",
        "validation_acc = accuracy(validation_loader, model)\n",
        "\n"
      ]
    },
    {
      "cell_type": "code",
      "execution_count": 49,
      "metadata": {
        "id": "XQDTOfE23L7y",
        "outputId": "4f387add-dc69-46a7-ffdd-0e6f34eba177",
        "colab": {
          "base_uri": "https://localhost:8080/",
          "height": 330
        }
      },
      "outputs": [
        {
          "output_type": "error",
          "ename": "UnboundLocalError",
          "evalue": "ignored",
          "traceback": [
            "\u001b[0;31m---------------------------------------------------------------------------\u001b[0m",
            "\u001b[0;31mUnboundLocalError\u001b[0m                         Traceback (most recent call last)",
            "\u001b[0;32m<ipython-input-49-ff4a9367cd90>\u001b[0m in \u001b[0;36m<cell line: 1>\u001b[0;34m()\u001b[0m\n\u001b[0;32m----> 1\u001b[0;31m \u001b[0mtrain_acc\u001b[0m \u001b[0;34m=\u001b[0m \u001b[0maccuracy\u001b[0m\u001b[0;34m(\u001b[0m\u001b[0mtrain_loader\u001b[0m\u001b[0;34m)\u001b[0m\u001b[0;34m\u001b[0m\u001b[0;34m\u001b[0m\u001b[0m\n\u001b[0m\u001b[1;32m      2\u001b[0m \u001b[0mtest_acc\u001b[0m \u001b[0;34m=\u001b[0m \u001b[0maccuracy\u001b[0m\u001b[0;34m(\u001b[0m\u001b[0mtest_loader\u001b[0m\u001b[0;34m)\u001b[0m\u001b[0;34m\u001b[0m\u001b[0;34m\u001b[0m\u001b[0m\n\u001b[1;32m      3\u001b[0m \u001b[0mvalidation_acc\u001b[0m \u001b[0;34m=\u001b[0m \u001b[0maccuracy\u001b[0m\u001b[0;34m(\u001b[0m\u001b[0mvalidation_loader\u001b[0m\u001b[0;34m)\u001b[0m\u001b[0;34m\u001b[0m\u001b[0;34m\u001b[0m\u001b[0m\n",
            "\u001b[0;32m<ipython-input-48-c9662c646b6e>\u001b[0m in \u001b[0;36maccuracy\u001b[0;34m(loader)\u001b[0m\n\u001b[1;32m     23\u001b[0m \u001b[0;34m\u001b[0m\u001b[0m\n\u001b[1;32m     24\u001b[0m         \u001b[0;31m# Move model to GPU\u001b[0m\u001b[0;34m\u001b[0m\u001b[0;34m\u001b[0m\u001b[0m\n\u001b[0;32m---> 25\u001b[0;31m         \u001b[0mmodel\u001b[0m \u001b[0;34m=\u001b[0m \u001b[0mmodel\u001b[0m\u001b[0;34m.\u001b[0m\u001b[0mcuda\u001b[0m\u001b[0;34m(\u001b[0m\u001b[0;34m)\u001b[0m\u001b[0;34m\u001b[0m\u001b[0;34m\u001b[0m\u001b[0m\n\u001b[0m\u001b[1;32m     26\u001b[0m \u001b[0;34m\u001b[0m\u001b[0m\n\u001b[1;32m     27\u001b[0m         \u001b[0moutputs\u001b[0m \u001b[0;34m=\u001b[0m \u001b[0mmodel\u001b[0m\u001b[0;34m(\u001b[0m\u001b[0minputs\u001b[0m\u001b[0;34m)\u001b[0m\u001b[0;34m\u001b[0m\u001b[0;34m\u001b[0m\u001b[0m\n",
            "\u001b[0;31mUnboundLocalError\u001b[0m: local variable 'model' referenced before assignment"
          ]
        }
      ],
      "source": [
        "train_acc = accuracy(train_loader)\n",
        "test_acc = accuracy(test_loader)\n",
        "validation_acc = accuracy(validation_loader)"
      ]
    },
    {
      "cell_type": "code",
      "execution_count": 52,
      "metadata": {
        "id": "0P5BxBPT3L7z",
        "outputId": "cd1d469d-d04f-4a64-cb9f-750d6a2fed08",
        "colab": {
          "base_uri": "https://localhost:8080/"
        }
      },
      "outputs": [
        {
          "output_type": "stream",
          "name": "stdout",
          "text": [
            "Train Accuracy : 1.0\n",
            "Test Accuracy : 1.0\n",
            "Validation Accuracy : 1.0\n"
          ]
        }
      ],
      "source": [
        "print(\n",
        "    f\"Train Accuracy : {train_acc}\\nTest Accuracy : {test_acc}\\nValidation Accuracy : {validation_acc}\"\n",
        ")"
      ]
    },
    {
      "cell_type": "markdown",
      "metadata": {
        "id": "Bud2RWG13L7z"
      },
      "source": [
        "### Single Image Prediction"
      ]
    },
    {
      "cell_type": "code",
      "execution_count": null,
      "metadata": {
        "id": "NWUOYirD3L70",
        "outputId": "be7644b4-3c58-4e29-cf15-d0a524bcaf16"
      },
      "outputs": [
        {
          "data": {
            "application/javascript": [
              "\n",
              "            setTimeout(function() {\n",
              "                var nbb_cell_id = 46;\n",
              "                var nbb_unformatted_code = \"transform_index_to_disease = dataset.class_to_idx\";\n",
              "                var nbb_formatted_code = \"transform_index_to_disease = dataset.class_to_idx\";\n",
              "                var nbb_cells = Jupyter.notebook.get_cells();\n",
              "                for (var i = 0; i < nbb_cells.length; ++i) {\n",
              "                    if (nbb_cells[i].input_prompt_number == nbb_cell_id) {\n",
              "                        if (nbb_cells[i].get_text() == nbb_unformatted_code) {\n",
              "                             nbb_cells[i].set_text(nbb_formatted_code);\n",
              "                        }\n",
              "                        break;\n",
              "                    }\n",
              "                }\n",
              "            }, 500);\n",
              "            "
            ],
            "text/plain": [
              "<IPython.core.display.Javascript object>"
            ]
          },
          "metadata": {},
          "output_type": "display_data"
        }
      ],
      "source": [
        "transform_index_to_disease = dataset.class_to_idx"
      ]
    },
    {
      "cell_type": "code",
      "execution_count": null,
      "metadata": {
        "id": "8yyruKib3L70",
        "outputId": "eaee889f-cbc2-4dfd-93ac-3fb9dea3358a"
      },
      "outputs": [
        {
          "data": {
            "application/javascript": [
              "\n",
              "            setTimeout(function() {\n",
              "                var nbb_cell_id = 47;\n",
              "                var nbb_unformatted_code = \"transform_index_to_disease = dict(\\n    [(value, key) for key, value in transform_index_to_disease.items()]\\n)  # reverse the index\";\n",
              "                var nbb_formatted_code = \"transform_index_to_disease = dict(\\n    [(value, key) for key, value in transform_index_to_disease.items()]\\n)  # reverse the index\";\n",
              "                var nbb_cells = Jupyter.notebook.get_cells();\n",
              "                for (var i = 0; i < nbb_cells.length; ++i) {\n",
              "                    if (nbb_cells[i].input_prompt_number == nbb_cell_id) {\n",
              "                        if (nbb_cells[i].get_text() == nbb_unformatted_code) {\n",
              "                             nbb_cells[i].set_text(nbb_formatted_code);\n",
              "                        }\n",
              "                        break;\n",
              "                    }\n",
              "                }\n",
              "            }, 500);\n",
              "            "
            ],
            "text/plain": [
              "<IPython.core.display.Javascript object>"
            ]
          },
          "metadata": {},
          "output_type": "display_data"
        }
      ],
      "source": [
        "transform_index_to_disease = dict(\n",
        "    [(value, key) for key, value in transform_index_to_disease.items()]\n",
        ")  # reverse the index"
      ]
    },
    {
      "cell_type": "code",
      "execution_count": null,
      "metadata": {
        "id": "rXmjghEd3L70",
        "outputId": "b49c80cf-9708-47e1-cbe2-c2721ddd06c3"
      },
      "outputs": [
        {
          "data": {
            "application/javascript": [
              "\n",
              "            setTimeout(function() {\n",
              "                var nbb_cell_id = 53;\n",
              "                var nbb_unformatted_code = \"data = pd.read_csv(\\\"disease_info.csv\\\", encoding=\\\"cp1252\\\")\";\n",
              "                var nbb_formatted_code = \"data = pd.read_csv(\\\"disease_info.csv\\\", encoding=\\\"cp1252\\\")\";\n",
              "                var nbb_cells = Jupyter.notebook.get_cells();\n",
              "                for (var i = 0; i < nbb_cells.length; ++i) {\n",
              "                    if (nbb_cells[i].input_prompt_number == nbb_cell_id) {\n",
              "                        if (nbb_cells[i].get_text() == nbb_unformatted_code) {\n",
              "                             nbb_cells[i].set_text(nbb_formatted_code);\n",
              "                        }\n",
              "                        break;\n",
              "                    }\n",
              "                }\n",
              "            }, 500);\n",
              "            "
            ],
            "text/plain": [
              "<IPython.core.display.Javascript object>"
            ]
          },
          "metadata": {},
          "output_type": "display_data"
        }
      ],
      "source": [
        "data = pd.read_csv(\"disease_info.csv\", encoding=\"cp1252\")"
      ]
    },
    {
      "cell_type": "code",
      "execution_count": null,
      "metadata": {
        "id": "rWZ1jJ223L71",
        "outputId": "99fa7ab7-8c73-45dd-f458-70cd2345e6bc"
      },
      "outputs": [
        {
          "data": {
            "application/javascript": [
              "\n",
              "            setTimeout(function() {\n",
              "                var nbb_cell_id = 49;\n",
              "                var nbb_unformatted_code = \"from PIL import Image\\nimport torchvision.transforms.functional as TF\";\n",
              "                var nbb_formatted_code = \"from PIL import Image\\nimport torchvision.transforms.functional as TF\";\n",
              "                var nbb_cells = Jupyter.notebook.get_cells();\n",
              "                for (var i = 0; i < nbb_cells.length; ++i) {\n",
              "                    if (nbb_cells[i].input_prompt_number == nbb_cell_id) {\n",
              "                        if (nbb_cells[i].get_text() == nbb_unformatted_code) {\n",
              "                             nbb_cells[i].set_text(nbb_formatted_code);\n",
              "                        }\n",
              "                        break;\n",
              "                    }\n",
              "                }\n",
              "            }, 500);\n",
              "            "
            ],
            "text/plain": [
              "<IPython.core.display.Javascript object>"
            ]
          },
          "metadata": {},
          "output_type": "display_data"
        }
      ],
      "source": [
        "from PIL import Image\n",
        "import torchvision.transforms.functional as TF"
      ]
    },
    {
      "cell_type": "code",
      "execution_count": null,
      "metadata": {
        "id": "yPqFqljt3L71",
        "outputId": "e2255125-83db-4d06-fdd2-50efcae8573e"
      },
      "outputs": [
        {
          "data": {
            "application/javascript": [
              "\n",
              "            setTimeout(function() {\n",
              "                var nbb_cell_id = 50;\n",
              "                var nbb_unformatted_code = \"def single_prediction(image_path):\\n    image = Image.open(image_path)\\n    image = image.resize((224, 224))\\n    input_data = TF.to_tensor(image)\\n    input_data = input_data.view((-1, 3, 224, 224))\\n    output = model(input_data)\\n    output = output.detach().numpy()\\n    index = np.argmax(output)\\n    print(\\\"Original : \\\", image_path[12:-4])\\n    pred_csv = data[\\\"disease_name\\\"][index]\\n    print(pred_csv)\";\n",
              "                var nbb_formatted_code = \"def single_prediction(image_path):\\n    image = Image.open(image_path)\\n    image = image.resize((224, 224))\\n    input_data = TF.to_tensor(image)\\n    input_data = input_data.view((-1, 3, 224, 224))\\n    output = model(input_data)\\n    output = output.detach().numpy()\\n    index = np.argmax(output)\\n    print(\\\"Original : \\\", image_path[12:-4])\\n    pred_csv = data[\\\"disease_name\\\"][index]\\n    print(pred_csv)\";\n",
              "                var nbb_cells = Jupyter.notebook.get_cells();\n",
              "                for (var i = 0; i < nbb_cells.length; ++i) {\n",
              "                    if (nbb_cells[i].input_prompt_number == nbb_cell_id) {\n",
              "                        if (nbb_cells[i].get_text() == nbb_unformatted_code) {\n",
              "                             nbb_cells[i].set_text(nbb_formatted_code);\n",
              "                        }\n",
              "                        break;\n",
              "                    }\n",
              "                }\n",
              "            }, 500);\n",
              "            "
            ],
            "text/plain": [
              "<IPython.core.display.Javascript object>"
            ]
          },
          "metadata": {},
          "output_type": "display_data"
        }
      ],
      "source": [
        "def single_prediction(image_path):\n",
        "    image = Image.open(image_path)\n",
        "    image = image.resize((224, 224))\n",
        "    input_data = TF.to_tensor(image)\n",
        "    input_data = input_data.view((-1, 3, 224, 224))\n",
        "    output = model(input_data)\n",
        "    output = output.detach().numpy()\n",
        "    index = np.argmax(output)\n",
        "    print(\"Original : \", image_path[12:-4])\n",
        "    pred_csv = data[\"disease_name\"][index]\n",
        "    print(pred_csv)"
      ]
    },
    {
      "cell_type": "code",
      "execution_count": null,
      "metadata": {
        "id": "zxdV0c273L72",
        "outputId": "776bfeb1-de70-481e-f6a3-322d2a8a6884"
      },
      "outputs": [
        {
          "name": "stdout",
          "output_type": "stream",
          "text": [
            "Original :  Apple_ceder_apple_rust\n",
            "Cherry : Powdery Mildew\n"
          ]
        },
        {
          "data": {
            "application/javascript": [
              "\n",
              "            setTimeout(function() {\n",
              "                var nbb_cell_id = 94;\n",
              "                var nbb_unformatted_code = \"single_prediction(\\\"test_images/Apple_ceder_apple_rust.JPG\\\")\";\n",
              "                var nbb_formatted_code = \"single_prediction(\\\"test_images/Apple_ceder_apple_rust.JPG\\\")\";\n",
              "                var nbb_cells = Jupyter.notebook.get_cells();\n",
              "                for (var i = 0; i < nbb_cells.length; ++i) {\n",
              "                    if (nbb_cells[i].input_prompt_number == nbb_cell_id) {\n",
              "                        if (nbb_cells[i].get_text() == nbb_unformatted_code) {\n",
              "                             nbb_cells[i].set_text(nbb_formatted_code);\n",
              "                        }\n",
              "                        break;\n",
              "                    }\n",
              "                }\n",
              "            }, 500);\n",
              "            "
            ],
            "text/plain": [
              "<IPython.core.display.Javascript object>"
            ]
          },
          "metadata": {},
          "output_type": "display_data"
        }
      ],
      "source": [
        "single_prediction(\"test_images/Apple_ceder_apple_rust.JPG\")"
      ]
    },
    {
      "cell_type": "markdown",
      "metadata": {
        "id": "IevhOw9S3L72"
      },
      "source": [
        "### Wrong Prediction"
      ]
    },
    {
      "cell_type": "code",
      "execution_count": null,
      "metadata": {
        "id": "bQSLzRxr3L72",
        "outputId": "0b522b4d-6cbe-41e3-ef5c-b558ce3b198f"
      },
      "outputs": [
        {
          "name": "stdout",
          "output_type": "stream",
          "text": [
            "Original :  Apple_scab\n",
            "Cherry : Powdery Mildew\n"
          ]
        },
        {
          "data": {
            "application/javascript": [
              "\n",
              "            setTimeout(function() {\n",
              "                var nbb_cell_id = 96;\n",
              "                var nbb_unformatted_code = \"single_prediction(\\\"test_images/Apple_scab.JPG\\\")\";\n",
              "                var nbb_formatted_code = \"single_prediction(\\\"test_images/Apple_scab.JPG\\\")\";\n",
              "                var nbb_cells = Jupyter.notebook.get_cells();\n",
              "                for (var i = 0; i < nbb_cells.length; ++i) {\n",
              "                    if (nbb_cells[i].input_prompt_number == nbb_cell_id) {\n",
              "                        if (nbb_cells[i].get_text() == nbb_unformatted_code) {\n",
              "                             nbb_cells[i].set_text(nbb_formatted_code);\n",
              "                        }\n",
              "                        break;\n",
              "                    }\n",
              "                }\n",
              "            }, 500);\n",
              "            "
            ],
            "text/plain": [
              "<IPython.core.display.Javascript object>"
            ]
          },
          "metadata": {},
          "output_type": "display_data"
        }
      ],
      "source": [
        "single_prediction(\"test_images/Apple_scab.JPG\")"
      ]
    },
    {
      "cell_type": "code",
      "execution_count": null,
      "metadata": {
        "id": "369ooWi53L73",
        "outputId": "538ba0eb-6935-48fd-ffdb-0a9e61c0027d"
      },
      "outputs": [
        {
          "name": "stdout",
          "output_type": "stream",
          "text": [
            "Original :  Grape_esca\n",
            "Cherry : Powdery Mildew\n"
          ]
        },
        {
          "data": {
            "application/javascript": [
              "\n",
              "            setTimeout(function() {\n",
              "                var nbb_cell_id = 56;\n",
              "                var nbb_unformatted_code = \"single_prediction(\\\"test_images/Grape_esca.JPG\\\")\";\n",
              "                var nbb_formatted_code = \"single_prediction(\\\"test_images/Grape_esca.JPG\\\")\";\n",
              "                var nbb_cells = Jupyter.notebook.get_cells();\n",
              "                for (var i = 0; i < nbb_cells.length; ++i) {\n",
              "                    if (nbb_cells[i].input_prompt_number == nbb_cell_id) {\n",
              "                        if (nbb_cells[i].get_text() == nbb_unformatted_code) {\n",
              "                             nbb_cells[i].set_text(nbb_formatted_code);\n",
              "                        }\n",
              "                        break;\n",
              "                    }\n",
              "                }\n",
              "            }, 500);\n",
              "            "
            ],
            "text/plain": [
              "<IPython.core.display.Javascript object>"
            ]
          },
          "metadata": {},
          "output_type": "display_data"
        }
      ],
      "source": [
        "single_prediction(\"test_images/Grape_esca.JPG\")"
      ]
    },
    {
      "cell_type": "code",
      "execution_count": null,
      "metadata": {
        "id": "vNHW0Hrf3L73",
        "outputId": "8952ad11-9bc9-4b88-d309-2a888d1a8610"
      },
      "outputs": [
        {
          "name": "stdout",
          "output_type": "stream",
          "text": [
            "Original :  apple_black_rot\n",
            "Cherry : Powdery Mildew\n"
          ]
        },
        {
          "data": {
            "application/javascript": [
              "\n",
              "            setTimeout(function() {\n",
              "                var nbb_cell_id = 57;\n",
              "                var nbb_unformatted_code = \"single_prediction(\\\"test_images/apple_black_rot.JPG\\\")\";\n",
              "                var nbb_formatted_code = \"single_prediction(\\\"test_images/apple_black_rot.JPG\\\")\";\n",
              "                var nbb_cells = Jupyter.notebook.get_cells();\n",
              "                for (var i = 0; i < nbb_cells.length; ++i) {\n",
              "                    if (nbb_cells[i].input_prompt_number == nbb_cell_id) {\n",
              "                        if (nbb_cells[i].get_text() == nbb_unformatted_code) {\n",
              "                             nbb_cells[i].set_text(nbb_formatted_code);\n",
              "                        }\n",
              "                        break;\n",
              "                    }\n",
              "                }\n",
              "            }, 500);\n",
              "            "
            ],
            "text/plain": [
              "<IPython.core.display.Javascript object>"
            ]
          },
          "metadata": {},
          "output_type": "display_data"
        }
      ],
      "source": [
        "single_prediction(\"test_images/apple_black_rot.JPG\")"
      ]
    },
    {
      "cell_type": "code",
      "execution_count": null,
      "metadata": {
        "id": "UgFcUryG3L74",
        "outputId": "d5d5e0cb-f8d6-43ed-aea6-e7001cd3bd8e"
      },
      "outputs": [
        {
          "name": "stdout",
          "output_type": "stream",
          "text": [
            "Original :  apple_healthy\n",
            "Cherry : Powdery Mildew\n"
          ]
        },
        {
          "data": {
            "application/javascript": [
              "\n",
              "            setTimeout(function() {\n",
              "                var nbb_cell_id = 58;\n",
              "                var nbb_unformatted_code = \"single_prediction(\\\"test_images/apple_healthy.JPG\\\")\";\n",
              "                var nbb_formatted_code = \"single_prediction(\\\"test_images/apple_healthy.JPG\\\")\";\n",
              "                var nbb_cells = Jupyter.notebook.get_cells();\n",
              "                for (var i = 0; i < nbb_cells.length; ++i) {\n",
              "                    if (nbb_cells[i].input_prompt_number == nbb_cell_id) {\n",
              "                        if (nbb_cells[i].get_text() == nbb_unformatted_code) {\n",
              "                             nbb_cells[i].set_text(nbb_formatted_code);\n",
              "                        }\n",
              "                        break;\n",
              "                    }\n",
              "                }\n",
              "            }, 500);\n",
              "            "
            ],
            "text/plain": [
              "<IPython.core.display.Javascript object>"
            ]
          },
          "metadata": {},
          "output_type": "display_data"
        }
      ],
      "source": [
        "single_prediction(\"test_images/apple_healthy.JPG\")"
      ]
    },
    {
      "cell_type": "code",
      "execution_count": null,
      "metadata": {
        "id": "yD4qqCY_3L75",
        "outputId": "acf5bbdf-5850-4e7f-8790-00a025b6a087"
      },
      "outputs": [
        {
          "name": "stdout",
          "output_type": "stream",
          "text": [
            "Original :  background_without_leaves\n",
            "Cherry : Powdery Mildew\n"
          ]
        },
        {
          "data": {
            "application/javascript": [
              "\n",
              "            setTimeout(function() {\n",
              "                var nbb_cell_id = 59;\n",
              "                var nbb_unformatted_code = \"single_prediction(\\\"test_images/background_without_leaves.jpg\\\")\";\n",
              "                var nbb_formatted_code = \"single_prediction(\\\"test_images/background_without_leaves.jpg\\\")\";\n",
              "                var nbb_cells = Jupyter.notebook.get_cells();\n",
              "                for (var i = 0; i < nbb_cells.length; ++i) {\n",
              "                    if (nbb_cells[i].input_prompt_number == nbb_cell_id) {\n",
              "                        if (nbb_cells[i].get_text() == nbb_unformatted_code) {\n",
              "                             nbb_cells[i].set_text(nbb_formatted_code);\n",
              "                        }\n",
              "                        break;\n",
              "                    }\n",
              "                }\n",
              "            }, 500);\n",
              "            "
            ],
            "text/plain": [
              "<IPython.core.display.Javascript object>"
            ]
          },
          "metadata": {},
          "output_type": "display_data"
        }
      ],
      "source": [
        "single_prediction(\"test_images/background_without_leaves.jpg\")"
      ]
    },
    {
      "cell_type": "code",
      "execution_count": null,
      "metadata": {
        "id": "QANIwocz3L76",
        "outputId": "64ae5f3e-51dc-4611-ffd4-ac6a2f534ae8"
      },
      "outputs": [
        {
          "name": "stdout",
          "output_type": "stream",
          "text": [
            "Original :  blueberry_healthy\n",
            "Cherry : Powdery Mildew\n"
          ]
        },
        {
          "data": {
            "application/javascript": [
              "\n",
              "            setTimeout(function() {\n",
              "                var nbb_cell_id = 60;\n",
              "                var nbb_unformatted_code = \"single_prediction(\\\"test_images/blueberry_healthy.JPG\\\")\";\n",
              "                var nbb_formatted_code = \"single_prediction(\\\"test_images/blueberry_healthy.JPG\\\")\";\n",
              "                var nbb_cells = Jupyter.notebook.get_cells();\n",
              "                for (var i = 0; i < nbb_cells.length; ++i) {\n",
              "                    if (nbb_cells[i].input_prompt_number == nbb_cell_id) {\n",
              "                        if (nbb_cells[i].get_text() == nbb_unformatted_code) {\n",
              "                             nbb_cells[i].set_text(nbb_formatted_code);\n",
              "                        }\n",
              "                        break;\n",
              "                    }\n",
              "                }\n",
              "            }, 500);\n",
              "            "
            ],
            "text/plain": [
              "<IPython.core.display.Javascript object>"
            ]
          },
          "metadata": {},
          "output_type": "display_data"
        }
      ],
      "source": [
        "single_prediction(\"test_images/blueberry_healthy.JPG\")"
      ]
    },
    {
      "cell_type": "code",
      "execution_count": null,
      "metadata": {
        "id": "SZEjJ62O3L76",
        "outputId": "5cded839-2559-4e9a-aab1-8f060c19c000"
      },
      "outputs": [
        {
          "name": "stdout",
          "output_type": "stream",
          "text": [
            "Original :  cherry_healthy\n",
            "Cherry : Powdery Mildew\n"
          ]
        },
        {
          "data": {
            "application/javascript": [
              "\n",
              "            setTimeout(function() {\n",
              "                var nbb_cell_id = 61;\n",
              "                var nbb_unformatted_code = \"single_prediction(\\\"test_images/cherry_healthy.JPG\\\")\";\n",
              "                var nbb_formatted_code = \"single_prediction(\\\"test_images/cherry_healthy.JPG\\\")\";\n",
              "                var nbb_cells = Jupyter.notebook.get_cells();\n",
              "                for (var i = 0; i < nbb_cells.length; ++i) {\n",
              "                    if (nbb_cells[i].input_prompt_number == nbb_cell_id) {\n",
              "                        if (nbb_cells[i].get_text() == nbb_unformatted_code) {\n",
              "                             nbb_cells[i].set_text(nbb_formatted_code);\n",
              "                        }\n",
              "                        break;\n",
              "                    }\n",
              "                }\n",
              "            }, 500);\n",
              "            "
            ],
            "text/plain": [
              "<IPython.core.display.Javascript object>"
            ]
          },
          "metadata": {},
          "output_type": "display_data"
        }
      ],
      "source": [
        "single_prediction(\"test_images/cherry_healthy.JPG\")"
      ]
    },
    {
      "cell_type": "code",
      "execution_count": null,
      "metadata": {
        "id": "ZyUta2Wo3L77",
        "outputId": "9e8e4669-ace9-4662-c12a-9cd2b6952434"
      },
      "outputs": [
        {
          "name": "stdout",
          "output_type": "stream",
          "text": [
            "Original :  cherry_powdery_mildew\n",
            "Cherry : Powdery Mildew\n"
          ]
        },
        {
          "data": {
            "application/javascript": [
              "\n",
              "            setTimeout(function() {\n",
              "                var nbb_cell_id = 62;\n",
              "                var nbb_unformatted_code = \"single_prediction(\\\"test_images/cherry_powdery_mildew.JPG\\\")\";\n",
              "                var nbb_formatted_code = \"single_prediction(\\\"test_images/cherry_powdery_mildew.JPG\\\")\";\n",
              "                var nbb_cells = Jupyter.notebook.get_cells();\n",
              "                for (var i = 0; i < nbb_cells.length; ++i) {\n",
              "                    if (nbb_cells[i].input_prompt_number == nbb_cell_id) {\n",
              "                        if (nbb_cells[i].get_text() == nbb_unformatted_code) {\n",
              "                             nbb_cells[i].set_text(nbb_formatted_code);\n",
              "                        }\n",
              "                        break;\n",
              "                    }\n",
              "                }\n",
              "            }, 500);\n",
              "            "
            ],
            "text/plain": [
              "<IPython.core.display.Javascript object>"
            ]
          },
          "metadata": {},
          "output_type": "display_data"
        }
      ],
      "source": [
        "single_prediction(\"test_images/cherry_powdery_mildew.JPG\")"
      ]
    },
    {
      "cell_type": "code",
      "execution_count": null,
      "metadata": {
        "id": "TSB5-ldY3L77",
        "outputId": "bae7d79d-f1ef-4c71-cb62-16f5a0a043de"
      },
      "outputs": [
        {
          "name": "stdout",
          "output_type": "stream",
          "text": [
            "Original :  corn_cercospora_leaf\n",
            "Cherry : Powdery Mildew\n"
          ]
        },
        {
          "data": {
            "application/javascript": [
              "\n",
              "            setTimeout(function() {\n",
              "                var nbb_cell_id = 63;\n",
              "                var nbb_unformatted_code = \"single_prediction(\\\"test_images/corn_cercospora_leaf.JPG\\\")\";\n",
              "                var nbb_formatted_code = \"single_prediction(\\\"test_images/corn_cercospora_leaf.JPG\\\")\";\n",
              "                var nbb_cells = Jupyter.notebook.get_cells();\n",
              "                for (var i = 0; i < nbb_cells.length; ++i) {\n",
              "                    if (nbb_cells[i].input_prompt_number == nbb_cell_id) {\n",
              "                        if (nbb_cells[i].get_text() == nbb_unformatted_code) {\n",
              "                             nbb_cells[i].set_text(nbb_formatted_code);\n",
              "                        }\n",
              "                        break;\n",
              "                    }\n",
              "                }\n",
              "            }, 500);\n",
              "            "
            ],
            "text/plain": [
              "<IPython.core.display.Javascript object>"
            ]
          },
          "metadata": {},
          "output_type": "display_data"
        }
      ],
      "source": [
        "single_prediction(\"test_images/corn_cercospora_leaf.JPG\")"
      ]
    },
    {
      "cell_type": "code",
      "execution_count": null,
      "metadata": {
        "id": "IbiT5cUh3L77",
        "outputId": "dfcec5af-0355-4c52-d6da-2810649e5b4d"
      },
      "outputs": [
        {
          "name": "stdout",
          "output_type": "stream",
          "text": [
            "Original :  corn_common_rust\n",
            "Cherry : Powdery Mildew\n"
          ]
        },
        {
          "data": {
            "application/javascript": [
              "\n",
              "            setTimeout(function() {\n",
              "                var nbb_cell_id = 64;\n",
              "                var nbb_unformatted_code = \"single_prediction(\\\"test_images/corn_common_rust.JPG\\\")\";\n",
              "                var nbb_formatted_code = \"single_prediction(\\\"test_images/corn_common_rust.JPG\\\")\";\n",
              "                var nbb_cells = Jupyter.notebook.get_cells();\n",
              "                for (var i = 0; i < nbb_cells.length; ++i) {\n",
              "                    if (nbb_cells[i].input_prompt_number == nbb_cell_id) {\n",
              "                        if (nbb_cells[i].get_text() == nbb_unformatted_code) {\n",
              "                             nbb_cells[i].set_text(nbb_formatted_code);\n",
              "                        }\n",
              "                        break;\n",
              "                    }\n",
              "                }\n",
              "            }, 500);\n",
              "            "
            ],
            "text/plain": [
              "<IPython.core.display.Javascript object>"
            ]
          },
          "metadata": {},
          "output_type": "display_data"
        }
      ],
      "source": [
        "single_prediction(\"test_images/corn_common_rust.JPG\")"
      ]
    },
    {
      "cell_type": "code",
      "execution_count": null,
      "metadata": {
        "id": "qUUH6uDD3L78",
        "outputId": "f101ecba-4f50-4442-a5b5-562551b889db"
      },
      "outputs": [
        {
          "name": "stdout",
          "output_type": "stream",
          "text": [
            "Original :  corn_healthy\n",
            "Cherry : Powdery Mildew\n"
          ]
        },
        {
          "data": {
            "application/javascript": [
              "\n",
              "            setTimeout(function() {\n",
              "                var nbb_cell_id = 65;\n",
              "                var nbb_unformatted_code = \"single_prediction(\\\"test_images/corn_healthy.jpg\\\")\";\n",
              "                var nbb_formatted_code = \"single_prediction(\\\"test_images/corn_healthy.jpg\\\")\";\n",
              "                var nbb_cells = Jupyter.notebook.get_cells();\n",
              "                for (var i = 0; i < nbb_cells.length; ++i) {\n",
              "                    if (nbb_cells[i].input_prompt_number == nbb_cell_id) {\n",
              "                        if (nbb_cells[i].get_text() == nbb_unformatted_code) {\n",
              "                             nbb_cells[i].set_text(nbb_formatted_code);\n",
              "                        }\n",
              "                        break;\n",
              "                    }\n",
              "                }\n",
              "            }, 500);\n",
              "            "
            ],
            "text/plain": [
              "<IPython.core.display.Javascript object>"
            ]
          },
          "metadata": {},
          "output_type": "display_data"
        }
      ],
      "source": [
        "single_prediction(\"test_images/corn_healthy.jpg\")"
      ]
    },
    {
      "cell_type": "code",
      "execution_count": null,
      "metadata": {
        "id": "-DHkVaLG3L78",
        "outputId": "25782ee6-2115-4f7b-fcf2-b1a98d1ef3eb"
      },
      "outputs": [
        {
          "name": "stdout",
          "output_type": "stream",
          "text": [
            "Original :  corn_northen_leaf_blight\n",
            "Cherry : Powdery Mildew\n"
          ]
        },
        {
          "data": {
            "application/javascript": [
              "\n",
              "            setTimeout(function() {\n",
              "                var nbb_cell_id = 66;\n",
              "                var nbb_unformatted_code = \"single_prediction(\\\"test_images/corn_northen_leaf_blight.JPG\\\")\";\n",
              "                var nbb_formatted_code = \"single_prediction(\\\"test_images/corn_northen_leaf_blight.JPG\\\")\";\n",
              "                var nbb_cells = Jupyter.notebook.get_cells();\n",
              "                for (var i = 0; i < nbb_cells.length; ++i) {\n",
              "                    if (nbb_cells[i].input_prompt_number == nbb_cell_id) {\n",
              "                        if (nbb_cells[i].get_text() == nbb_unformatted_code) {\n",
              "                             nbb_cells[i].set_text(nbb_formatted_code);\n",
              "                        }\n",
              "                        break;\n",
              "                    }\n",
              "                }\n",
              "            }, 500);\n",
              "            "
            ],
            "text/plain": [
              "<IPython.core.display.Javascript object>"
            ]
          },
          "metadata": {},
          "output_type": "display_data"
        }
      ],
      "source": [
        "single_prediction(\"test_images/corn_northen_leaf_blight.JPG\")"
      ]
    },
    {
      "cell_type": "code",
      "execution_count": null,
      "metadata": {
        "id": "R5YVUfEm3L79",
        "outputId": "c6dfe0f1-8db5-432b-b9be-b482e8a5053c"
      },
      "outputs": [
        {
          "name": "stdout",
          "output_type": "stream",
          "text": [
            "Original :  grape_black_rot\n",
            "Cherry : Powdery Mildew\n"
          ]
        },
        {
          "data": {
            "application/javascript": [
              "\n",
              "            setTimeout(function() {\n",
              "                var nbb_cell_id = 67;\n",
              "                var nbb_unformatted_code = \"single_prediction(\\\"test_images/grape_black_rot.JPG\\\")\";\n",
              "                var nbb_formatted_code = \"single_prediction(\\\"test_images/grape_black_rot.JPG\\\")\";\n",
              "                var nbb_cells = Jupyter.notebook.get_cells();\n",
              "                for (var i = 0; i < nbb_cells.length; ++i) {\n",
              "                    if (nbb_cells[i].input_prompt_number == nbb_cell_id) {\n",
              "                        if (nbb_cells[i].get_text() == nbb_unformatted_code) {\n",
              "                             nbb_cells[i].set_text(nbb_formatted_code);\n",
              "                        }\n",
              "                        break;\n",
              "                    }\n",
              "                }\n",
              "            }, 500);\n",
              "            "
            ],
            "text/plain": [
              "<IPython.core.display.Javascript object>"
            ]
          },
          "metadata": {},
          "output_type": "display_data"
        }
      ],
      "source": [
        "single_prediction(\"test_images/grape_black_rot.JPG\")"
      ]
    },
    {
      "cell_type": "code",
      "execution_count": null,
      "metadata": {
        "id": "1T4P85jD3L79",
        "outputId": "b82fa93a-5586-44b4-cab5-36ef5bc2ea14"
      },
      "outputs": [
        {
          "name": "stdout",
          "output_type": "stream",
          "text": [
            "Original :  grape_healthy\n",
            "Cherry : Powdery Mildew\n"
          ]
        },
        {
          "data": {
            "application/javascript": [
              "\n",
              "            setTimeout(function() {\n",
              "                var nbb_cell_id = 68;\n",
              "                var nbb_unformatted_code = \"single_prediction(\\\"test_images/grape_healthy.JPG\\\")\";\n",
              "                var nbb_formatted_code = \"single_prediction(\\\"test_images/grape_healthy.JPG\\\")\";\n",
              "                var nbb_cells = Jupyter.notebook.get_cells();\n",
              "                for (var i = 0; i < nbb_cells.length; ++i) {\n",
              "                    if (nbb_cells[i].input_prompt_number == nbb_cell_id) {\n",
              "                        if (nbb_cells[i].get_text() == nbb_unformatted_code) {\n",
              "                             nbb_cells[i].set_text(nbb_formatted_code);\n",
              "                        }\n",
              "                        break;\n",
              "                    }\n",
              "                }\n",
              "            }, 500);\n",
              "            "
            ],
            "text/plain": [
              "<IPython.core.display.Javascript object>"
            ]
          },
          "metadata": {},
          "output_type": "display_data"
        }
      ],
      "source": [
        "single_prediction(\"test_images/grape_healthy.JPG\")"
      ]
    },
    {
      "cell_type": "code",
      "execution_count": null,
      "metadata": {
        "id": "BfysLwXA3L79",
        "outputId": "6bb98884-e44a-49c3-ce04-5c945c17c4af"
      },
      "outputs": [
        {
          "name": "stdout",
          "output_type": "stream",
          "text": [
            "Original :  grape_leaf_blight\n",
            "Cherry : Powdery Mildew\n"
          ]
        },
        {
          "data": {
            "application/javascript": [
              "\n",
              "            setTimeout(function() {\n",
              "                var nbb_cell_id = 69;\n",
              "                var nbb_unformatted_code = \"single_prediction(\\\"test_images/grape_leaf_blight.JPG\\\")\";\n",
              "                var nbb_formatted_code = \"single_prediction(\\\"test_images/grape_leaf_blight.JPG\\\")\";\n",
              "                var nbb_cells = Jupyter.notebook.get_cells();\n",
              "                for (var i = 0; i < nbb_cells.length; ++i) {\n",
              "                    if (nbb_cells[i].input_prompt_number == nbb_cell_id) {\n",
              "                        if (nbb_cells[i].get_text() == nbb_unformatted_code) {\n",
              "                             nbb_cells[i].set_text(nbb_formatted_code);\n",
              "                        }\n",
              "                        break;\n",
              "                    }\n",
              "                }\n",
              "            }, 500);\n",
              "            "
            ],
            "text/plain": [
              "<IPython.core.display.Javascript object>"
            ]
          },
          "metadata": {},
          "output_type": "display_data"
        }
      ],
      "source": [
        "single_prediction(\"test_images/grape_leaf_blight.JPG\")"
      ]
    },
    {
      "cell_type": "code",
      "execution_count": null,
      "metadata": {
        "id": "XTHyfrCl3L7-",
        "outputId": "1773dfec-e857-4d74-bcb9-f611120eb149"
      },
      "outputs": [
        {
          "name": "stdout",
          "output_type": "stream",
          "text": [
            "Original :  orange_haunglongbing\n",
            "Cherry : Powdery Mildew\n"
          ]
        },
        {
          "data": {
            "application/javascript": [
              "\n",
              "            setTimeout(function() {\n",
              "                var nbb_cell_id = 70;\n",
              "                var nbb_unformatted_code = \"single_prediction(\\\"test_images/orange_haunglongbing.JPG\\\")\";\n",
              "                var nbb_formatted_code = \"single_prediction(\\\"test_images/orange_haunglongbing.JPG\\\")\";\n",
              "                var nbb_cells = Jupyter.notebook.get_cells();\n",
              "                for (var i = 0; i < nbb_cells.length; ++i) {\n",
              "                    if (nbb_cells[i].input_prompt_number == nbb_cell_id) {\n",
              "                        if (nbb_cells[i].get_text() == nbb_unformatted_code) {\n",
              "                             nbb_cells[i].set_text(nbb_formatted_code);\n",
              "                        }\n",
              "                        break;\n",
              "                    }\n",
              "                }\n",
              "            }, 500);\n",
              "            "
            ],
            "text/plain": [
              "<IPython.core.display.Javascript object>"
            ]
          },
          "metadata": {},
          "output_type": "display_data"
        }
      ],
      "source": [
        "single_prediction(\"test_images/orange_haunglongbing.JPG\")"
      ]
    },
    {
      "cell_type": "code",
      "execution_count": null,
      "metadata": {
        "id": "XwQbTQOg3L7-",
        "outputId": "31249a1c-693b-4085-d1b9-4397a85db726"
      },
      "outputs": [
        {
          "name": "stdout",
          "output_type": "stream",
          "text": [
            "Original :  peach_bacterial_spot\n",
            "Cherry : Powdery Mildew\n"
          ]
        },
        {
          "data": {
            "application/javascript": [
              "\n",
              "            setTimeout(function() {\n",
              "                var nbb_cell_id = 71;\n",
              "                var nbb_unformatted_code = \"single_prediction(\\\"test_images/peach_bacterial_spot.JPG\\\")\";\n",
              "                var nbb_formatted_code = \"single_prediction(\\\"test_images/peach_bacterial_spot.JPG\\\")\";\n",
              "                var nbb_cells = Jupyter.notebook.get_cells();\n",
              "                for (var i = 0; i < nbb_cells.length; ++i) {\n",
              "                    if (nbb_cells[i].input_prompt_number == nbb_cell_id) {\n",
              "                        if (nbb_cells[i].get_text() == nbb_unformatted_code) {\n",
              "                             nbb_cells[i].set_text(nbb_formatted_code);\n",
              "                        }\n",
              "                        break;\n",
              "                    }\n",
              "                }\n",
              "            }, 500);\n",
              "            "
            ],
            "text/plain": [
              "<IPython.core.display.Javascript object>"
            ]
          },
          "metadata": {},
          "output_type": "display_data"
        }
      ],
      "source": [
        "single_prediction(\"test_images/peach_bacterial_spot.JPG\")"
      ]
    },
    {
      "cell_type": "code",
      "execution_count": null,
      "metadata": {
        "id": "vb3hF9fq3L7-",
        "outputId": "cd12b4d6-44de-450b-fb4b-924c60f4ecc8"
      },
      "outputs": [
        {
          "name": "stdout",
          "output_type": "stream",
          "text": [
            "Original :  peach_healthy\n",
            "Cherry : Powdery Mildew\n"
          ]
        },
        {
          "data": {
            "application/javascript": [
              "\n",
              "            setTimeout(function() {\n",
              "                var nbb_cell_id = 72;\n",
              "                var nbb_unformatted_code = \"single_prediction(\\\"test_images/peach_healthy.JPG\\\")\";\n",
              "                var nbb_formatted_code = \"single_prediction(\\\"test_images/peach_healthy.JPG\\\")\";\n",
              "                var nbb_cells = Jupyter.notebook.get_cells();\n",
              "                for (var i = 0; i < nbb_cells.length; ++i) {\n",
              "                    if (nbb_cells[i].input_prompt_number == nbb_cell_id) {\n",
              "                        if (nbb_cells[i].get_text() == nbb_unformatted_code) {\n",
              "                             nbb_cells[i].set_text(nbb_formatted_code);\n",
              "                        }\n",
              "                        break;\n",
              "                    }\n",
              "                }\n",
              "            }, 500);\n",
              "            "
            ],
            "text/plain": [
              "<IPython.core.display.Javascript object>"
            ]
          },
          "metadata": {},
          "output_type": "display_data"
        }
      ],
      "source": [
        "single_prediction(\"test_images/peach_healthy.JPG\")"
      ]
    },
    {
      "cell_type": "code",
      "execution_count": null,
      "metadata": {
        "id": "OHWm4_JN3L7_",
        "outputId": "85b30926-5e35-4503-eeaf-dfbfcad04514"
      },
      "outputs": [
        {
          "name": "stdout",
          "output_type": "stream",
          "text": [
            "Original :  pepper_bacterial_spot\n",
            "Cherry : Powdery Mildew\n"
          ]
        },
        {
          "data": {
            "application/javascript": [
              "\n",
              "            setTimeout(function() {\n",
              "                var nbb_cell_id = 73;\n",
              "                var nbb_unformatted_code = \"single_prediction(\\\"test_images/pepper_bacterial_spot.JPG\\\")\";\n",
              "                var nbb_formatted_code = \"single_prediction(\\\"test_images/pepper_bacterial_spot.JPG\\\")\";\n",
              "                var nbb_cells = Jupyter.notebook.get_cells();\n",
              "                for (var i = 0; i < nbb_cells.length; ++i) {\n",
              "                    if (nbb_cells[i].input_prompt_number == nbb_cell_id) {\n",
              "                        if (nbb_cells[i].get_text() == nbb_unformatted_code) {\n",
              "                             nbb_cells[i].set_text(nbb_formatted_code);\n",
              "                        }\n",
              "                        break;\n",
              "                    }\n",
              "                }\n",
              "            }, 500);\n",
              "            "
            ],
            "text/plain": [
              "<IPython.core.display.Javascript object>"
            ]
          },
          "metadata": {},
          "output_type": "display_data"
        }
      ],
      "source": [
        "single_prediction(\"test_images/pepper_bacterial_spot.JPG\")"
      ]
    },
    {
      "cell_type": "code",
      "execution_count": null,
      "metadata": {
        "id": "-2TM7OFI3L7_",
        "outputId": "8386ea07-f5aa-467b-b2f6-260fda1299c2"
      },
      "outputs": [
        {
          "name": "stdout",
          "output_type": "stream",
          "text": [
            "Original :  pepper_bell_healthy\n",
            "Cherry : Powdery Mildew\n"
          ]
        },
        {
          "data": {
            "application/javascript": [
              "\n",
              "            setTimeout(function() {\n",
              "                var nbb_cell_id = 74;\n",
              "                var nbb_unformatted_code = \"single_prediction(\\\"test_images/pepper_bell_healthy.JPG\\\")\";\n",
              "                var nbb_formatted_code = \"single_prediction(\\\"test_images/pepper_bell_healthy.JPG\\\")\";\n",
              "                var nbb_cells = Jupyter.notebook.get_cells();\n",
              "                for (var i = 0; i < nbb_cells.length; ++i) {\n",
              "                    if (nbb_cells[i].input_prompt_number == nbb_cell_id) {\n",
              "                        if (nbb_cells[i].get_text() == nbb_unformatted_code) {\n",
              "                             nbb_cells[i].set_text(nbb_formatted_code);\n",
              "                        }\n",
              "                        break;\n",
              "                    }\n",
              "                }\n",
              "            }, 500);\n",
              "            "
            ],
            "text/plain": [
              "<IPython.core.display.Javascript object>"
            ]
          },
          "metadata": {},
          "output_type": "display_data"
        }
      ],
      "source": [
        "single_prediction(\"test_images/pepper_bell_healthy.JPG\")"
      ]
    },
    {
      "cell_type": "code",
      "execution_count": null,
      "metadata": {
        "id": "KfQsXabG3L7_",
        "outputId": "954f647d-21c0-4c60-8399-8f1ac2693774"
      },
      "outputs": [
        {
          "name": "stdout",
          "output_type": "stream",
          "text": [
            "Original :  potato_early_blight\n",
            "Cherry : Powdery Mildew\n"
          ]
        },
        {
          "data": {
            "application/javascript": [
              "\n",
              "            setTimeout(function() {\n",
              "                var nbb_cell_id = 75;\n",
              "                var nbb_unformatted_code = \"single_prediction(\\\"test_images/potato_early_blight.JPG\\\")\";\n",
              "                var nbb_formatted_code = \"single_prediction(\\\"test_images/potato_early_blight.JPG\\\")\";\n",
              "                var nbb_cells = Jupyter.notebook.get_cells();\n",
              "                for (var i = 0; i < nbb_cells.length; ++i) {\n",
              "                    if (nbb_cells[i].input_prompt_number == nbb_cell_id) {\n",
              "                        if (nbb_cells[i].get_text() == nbb_unformatted_code) {\n",
              "                             nbb_cells[i].set_text(nbb_formatted_code);\n",
              "                        }\n",
              "                        break;\n",
              "                    }\n",
              "                }\n",
              "            }, 500);\n",
              "            "
            ],
            "text/plain": [
              "<IPython.core.display.Javascript object>"
            ]
          },
          "metadata": {},
          "output_type": "display_data"
        }
      ],
      "source": [
        "single_prediction(\"test_images/potato_early_blight.JPG\")"
      ]
    },
    {
      "cell_type": "code",
      "execution_count": null,
      "metadata": {
        "id": "B424B_Pa3L8A",
        "outputId": "6b19af88-b088-4b0e-a1f3-a795754cced1"
      },
      "outputs": [
        {
          "name": "stdout",
          "output_type": "stream",
          "text": [
            "Original :  potato_healthy\n",
            "Cherry : Powdery Mildew\n"
          ]
        },
        {
          "data": {
            "application/javascript": [
              "\n",
              "            setTimeout(function() {\n",
              "                var nbb_cell_id = 76;\n",
              "                var nbb_unformatted_code = \"single_prediction(\\\"test_images/potato_healthy.JPG\\\")\";\n",
              "                var nbb_formatted_code = \"single_prediction(\\\"test_images/potato_healthy.JPG\\\")\";\n",
              "                var nbb_cells = Jupyter.notebook.get_cells();\n",
              "                for (var i = 0; i < nbb_cells.length; ++i) {\n",
              "                    if (nbb_cells[i].input_prompt_number == nbb_cell_id) {\n",
              "                        if (nbb_cells[i].get_text() == nbb_unformatted_code) {\n",
              "                             nbb_cells[i].set_text(nbb_formatted_code);\n",
              "                        }\n",
              "                        break;\n",
              "                    }\n",
              "                }\n",
              "            }, 500);\n",
              "            "
            ],
            "text/plain": [
              "<IPython.core.display.Javascript object>"
            ]
          },
          "metadata": {},
          "output_type": "display_data"
        }
      ],
      "source": [
        "single_prediction(\"test_images/potato_healthy.JPG\")"
      ]
    },
    {
      "cell_type": "code",
      "execution_count": null,
      "metadata": {
        "id": "jPYD7DAP3L8A",
        "outputId": "72cca125-7e7b-4f4e-9a7a-aff691bf418e"
      },
      "outputs": [
        {
          "name": "stdout",
          "output_type": "stream",
          "text": [
            "Original :  potato_late_blight\n",
            "Cherry : Powdery Mildew\n"
          ]
        },
        {
          "data": {
            "application/javascript": [
              "\n",
              "            setTimeout(function() {\n",
              "                var nbb_cell_id = 77;\n",
              "                var nbb_unformatted_code = \"single_prediction(\\\"test_images/potato_late_blight.JPG\\\")\";\n",
              "                var nbb_formatted_code = \"single_prediction(\\\"test_images/potato_late_blight.JPG\\\")\";\n",
              "                var nbb_cells = Jupyter.notebook.get_cells();\n",
              "                for (var i = 0; i < nbb_cells.length; ++i) {\n",
              "                    if (nbb_cells[i].input_prompt_number == nbb_cell_id) {\n",
              "                        if (nbb_cells[i].get_text() == nbb_unformatted_code) {\n",
              "                             nbb_cells[i].set_text(nbb_formatted_code);\n",
              "                        }\n",
              "                        break;\n",
              "                    }\n",
              "                }\n",
              "            }, 500);\n",
              "            "
            ],
            "text/plain": [
              "<IPython.core.display.Javascript object>"
            ]
          },
          "metadata": {},
          "output_type": "display_data"
        }
      ],
      "source": [
        "single_prediction(\"test_images/potato_late_blight.JPG\")"
      ]
    },
    {
      "cell_type": "code",
      "execution_count": null,
      "metadata": {
        "id": "h9U-SnJ_3L8B",
        "outputId": "e58d8e2b-bdfd-4a60-a4a9-ee91de5a39b3"
      },
      "outputs": [
        {
          "name": "stdout",
          "output_type": "stream",
          "text": [
            "Original :  raspberry_healthy\n",
            "Cherry : Powdery Mildew\n"
          ]
        },
        {
          "data": {
            "application/javascript": [
              "\n",
              "            setTimeout(function() {\n",
              "                var nbb_cell_id = 78;\n",
              "                var nbb_unformatted_code = \"single_prediction(\\\"test_images/raspberry_healthy.JPG\\\")\";\n",
              "                var nbb_formatted_code = \"single_prediction(\\\"test_images/raspberry_healthy.JPG\\\")\";\n",
              "                var nbb_cells = Jupyter.notebook.get_cells();\n",
              "                for (var i = 0; i < nbb_cells.length; ++i) {\n",
              "                    if (nbb_cells[i].input_prompt_number == nbb_cell_id) {\n",
              "                        if (nbb_cells[i].get_text() == nbb_unformatted_code) {\n",
              "                             nbb_cells[i].set_text(nbb_formatted_code);\n",
              "                        }\n",
              "                        break;\n",
              "                    }\n",
              "                }\n",
              "            }, 500);\n",
              "            "
            ],
            "text/plain": [
              "<IPython.core.display.Javascript object>"
            ]
          },
          "metadata": {},
          "output_type": "display_data"
        }
      ],
      "source": [
        "single_prediction(\"test_images/raspberry_healthy.JPG\")"
      ]
    },
    {
      "cell_type": "code",
      "execution_count": null,
      "metadata": {
        "id": "FnRTThSy3L8B",
        "outputId": "05ca90b0-08de-482d-fee1-ed2b20c411c9"
      },
      "outputs": [
        {
          "name": "stdout",
          "output_type": "stream",
          "text": [
            "Original :  soyaben healthy\n",
            "Cherry : Powdery Mildew\n"
          ]
        },
        {
          "data": {
            "application/javascript": [
              "\n",
              "            setTimeout(function() {\n",
              "                var nbb_cell_id = 79;\n",
              "                var nbb_unformatted_code = \"single_prediction(\\\"test_images/soyaben healthy.JPG\\\")\";\n",
              "                var nbb_formatted_code = \"single_prediction(\\\"test_images/soyaben healthy.JPG\\\")\";\n",
              "                var nbb_cells = Jupyter.notebook.get_cells();\n",
              "                for (var i = 0; i < nbb_cells.length; ++i) {\n",
              "                    if (nbb_cells[i].input_prompt_number == nbb_cell_id) {\n",
              "                        if (nbb_cells[i].get_text() == nbb_unformatted_code) {\n",
              "                             nbb_cells[i].set_text(nbb_formatted_code);\n",
              "                        }\n",
              "                        break;\n",
              "                    }\n",
              "                }\n",
              "            }, 500);\n",
              "            "
            ],
            "text/plain": [
              "<IPython.core.display.Javascript object>"
            ]
          },
          "metadata": {},
          "output_type": "display_data"
        }
      ],
      "source": [
        "single_prediction(\"test_images/soyaben healthy.JPG\")"
      ]
    },
    {
      "cell_type": "code",
      "execution_count": null,
      "metadata": {
        "id": "wi4JQdye3L8B",
        "outputId": "af7791ed-f441-489f-9b64-600a03f97040"
      },
      "outputs": [
        {
          "name": "stdout",
          "output_type": "stream",
          "text": [
            "Original :  potato_late_blight\n",
            "Cherry : Powdery Mildew\n"
          ]
        },
        {
          "data": {
            "application/javascript": [
              "\n",
              "            setTimeout(function() {\n",
              "                var nbb_cell_id = 80;\n",
              "                var nbb_unformatted_code = \"single_prediction(\\\"test_images/potato_late_blight.JPG\\\")\";\n",
              "                var nbb_formatted_code = \"single_prediction(\\\"test_images/potato_late_blight.JPG\\\")\";\n",
              "                var nbb_cells = Jupyter.notebook.get_cells();\n",
              "                for (var i = 0; i < nbb_cells.length; ++i) {\n",
              "                    if (nbb_cells[i].input_prompt_number == nbb_cell_id) {\n",
              "                        if (nbb_cells[i].get_text() == nbb_unformatted_code) {\n",
              "                             nbb_cells[i].set_text(nbb_formatted_code);\n",
              "                        }\n",
              "                        break;\n",
              "                    }\n",
              "                }\n",
              "            }, 500);\n",
              "            "
            ],
            "text/plain": [
              "<IPython.core.display.Javascript object>"
            ]
          },
          "metadata": {},
          "output_type": "display_data"
        }
      ],
      "source": [
        "single_prediction(\"test_images/potato_late_blight.JPG\")"
      ]
    },
    {
      "cell_type": "code",
      "execution_count": null,
      "metadata": {
        "id": "GhD60auc3L8B",
        "outputId": "9c7d2864-7ed6-4dd4-c6ae-0fb7067c1b9a"
      },
      "outputs": [
        {
          "name": "stdout",
          "output_type": "stream",
          "text": [
            "Original :  squash_powdery_mildew\n",
            "Cherry : Powdery Mildew\n"
          ]
        },
        {
          "data": {
            "application/javascript": [
              "\n",
              "            setTimeout(function() {\n",
              "                var nbb_cell_id = 81;\n",
              "                var nbb_unformatted_code = \"single_prediction(\\\"test_images/squash_powdery_mildew.JPG\\\")\";\n",
              "                var nbb_formatted_code = \"single_prediction(\\\"test_images/squash_powdery_mildew.JPG\\\")\";\n",
              "                var nbb_cells = Jupyter.notebook.get_cells();\n",
              "                for (var i = 0; i < nbb_cells.length; ++i) {\n",
              "                    if (nbb_cells[i].input_prompt_number == nbb_cell_id) {\n",
              "                        if (nbb_cells[i].get_text() == nbb_unformatted_code) {\n",
              "                             nbb_cells[i].set_text(nbb_formatted_code);\n",
              "                        }\n",
              "                        break;\n",
              "                    }\n",
              "                }\n",
              "            }, 500);\n",
              "            "
            ],
            "text/plain": [
              "<IPython.core.display.Javascript object>"
            ]
          },
          "metadata": {},
          "output_type": "display_data"
        }
      ],
      "source": [
        "single_prediction(\"test_images/squash_powdery_mildew.JPG\")"
      ]
    },
    {
      "cell_type": "code",
      "execution_count": null,
      "metadata": {
        "id": "P5MUtyn63L8B",
        "outputId": "ba84772d-7317-41b1-e7a3-117377ad39e6"
      },
      "outputs": [
        {
          "name": "stdout",
          "output_type": "stream",
          "text": [
            "Original :  starwberry_healthy\n",
            "Cherry : Powdery Mildew\n"
          ]
        },
        {
          "data": {
            "application/javascript": [
              "\n",
              "            setTimeout(function() {\n",
              "                var nbb_cell_id = 82;\n",
              "                var nbb_unformatted_code = \"single_prediction(\\\"test_images/starwberry_healthy.JPG\\\")\";\n",
              "                var nbb_formatted_code = \"single_prediction(\\\"test_images/starwberry_healthy.JPG\\\")\";\n",
              "                var nbb_cells = Jupyter.notebook.get_cells();\n",
              "                for (var i = 0; i < nbb_cells.length; ++i) {\n",
              "                    if (nbb_cells[i].input_prompt_number == nbb_cell_id) {\n",
              "                        if (nbb_cells[i].get_text() == nbb_unformatted_code) {\n",
              "                             nbb_cells[i].set_text(nbb_formatted_code);\n",
              "                        }\n",
              "                        break;\n",
              "                    }\n",
              "                }\n",
              "            }, 500);\n",
              "            "
            ],
            "text/plain": [
              "<IPython.core.display.Javascript object>"
            ]
          },
          "metadata": {},
          "output_type": "display_data"
        }
      ],
      "source": [
        "single_prediction(\"test_images/starwberry_healthy.JPG\")"
      ]
    },
    {
      "cell_type": "code",
      "execution_count": null,
      "metadata": {
        "id": "GxGV1OH03L8C",
        "outputId": "4e42d64d-e6f4-4ae5-f9a2-4de48b00bb32"
      },
      "outputs": [
        {
          "name": "stdout",
          "output_type": "stream",
          "text": [
            "Original :  starwberry_leaf_scorch\n",
            "Cherry : Powdery Mildew\n"
          ]
        },
        {
          "data": {
            "application/javascript": [
              "\n",
              "            setTimeout(function() {\n",
              "                var nbb_cell_id = 83;\n",
              "                var nbb_unformatted_code = \"single_prediction(\\\"test_images/starwberry_leaf_scorch.JPG\\\")\";\n",
              "                var nbb_formatted_code = \"single_prediction(\\\"test_images/starwberry_leaf_scorch.JPG\\\")\";\n",
              "                var nbb_cells = Jupyter.notebook.get_cells();\n",
              "                for (var i = 0; i < nbb_cells.length; ++i) {\n",
              "                    if (nbb_cells[i].input_prompt_number == nbb_cell_id) {\n",
              "                        if (nbb_cells[i].get_text() == nbb_unformatted_code) {\n",
              "                             nbb_cells[i].set_text(nbb_formatted_code);\n",
              "                        }\n",
              "                        break;\n",
              "                    }\n",
              "                }\n",
              "            }, 500);\n",
              "            "
            ],
            "text/plain": [
              "<IPython.core.display.Javascript object>"
            ]
          },
          "metadata": {},
          "output_type": "display_data"
        }
      ],
      "source": [
        "single_prediction(\"test_images/starwberry_leaf_scorch.JPG\")"
      ]
    },
    {
      "cell_type": "code",
      "execution_count": null,
      "metadata": {
        "id": "MWoUEJQ53L8C",
        "outputId": "7d1220d9-c471-4204-e378-0aac25e65b20"
      },
      "outputs": [
        {
          "name": "stdout",
          "output_type": "stream",
          "text": [
            "Original :  tomato_bacterial_spot\n",
            "Cherry : Powdery Mildew\n"
          ]
        },
        {
          "data": {
            "application/javascript": [
              "\n",
              "            setTimeout(function() {\n",
              "                var nbb_cell_id = 84;\n",
              "                var nbb_unformatted_code = \"single_prediction(\\\"test_images/tomato_bacterial_spot.JPG\\\")\";\n",
              "                var nbb_formatted_code = \"single_prediction(\\\"test_images/tomato_bacterial_spot.JPG\\\")\";\n",
              "                var nbb_cells = Jupyter.notebook.get_cells();\n",
              "                for (var i = 0; i < nbb_cells.length; ++i) {\n",
              "                    if (nbb_cells[i].input_prompt_number == nbb_cell_id) {\n",
              "                        if (nbb_cells[i].get_text() == nbb_unformatted_code) {\n",
              "                             nbb_cells[i].set_text(nbb_formatted_code);\n",
              "                        }\n",
              "                        break;\n",
              "                    }\n",
              "                }\n",
              "            }, 500);\n",
              "            "
            ],
            "text/plain": [
              "<IPython.core.display.Javascript object>"
            ]
          },
          "metadata": {},
          "output_type": "display_data"
        }
      ],
      "source": [
        "single_prediction(\"test_images/tomato_bacterial_spot.JPG\")"
      ]
    },
    {
      "cell_type": "code",
      "execution_count": null,
      "metadata": {
        "id": "JBmTRPQK3L8C",
        "outputId": "5d841809-cded-4cd4-9ce5-87d07e3bd463"
      },
      "outputs": [
        {
          "name": "stdout",
          "output_type": "stream",
          "text": [
            "Original :  tomato_early_blight\n",
            "Cherry : Powdery Mildew\n"
          ]
        },
        {
          "data": {
            "application/javascript": [
              "\n",
              "            setTimeout(function() {\n",
              "                var nbb_cell_id = 85;\n",
              "                var nbb_unformatted_code = \"single_prediction(\\\"test_images/tomato_early_blight.JPG\\\")\";\n",
              "                var nbb_formatted_code = \"single_prediction(\\\"test_images/tomato_early_blight.JPG\\\")\";\n",
              "                var nbb_cells = Jupyter.notebook.get_cells();\n",
              "                for (var i = 0; i < nbb_cells.length; ++i) {\n",
              "                    if (nbb_cells[i].input_prompt_number == nbb_cell_id) {\n",
              "                        if (nbb_cells[i].get_text() == nbb_unformatted_code) {\n",
              "                             nbb_cells[i].set_text(nbb_formatted_code);\n",
              "                        }\n",
              "                        break;\n",
              "                    }\n",
              "                }\n",
              "            }, 500);\n",
              "            "
            ],
            "text/plain": [
              "<IPython.core.display.Javascript object>"
            ]
          },
          "metadata": {},
          "output_type": "display_data"
        }
      ],
      "source": [
        "single_prediction(\"test_images/tomato_early_blight.JPG\")"
      ]
    },
    {
      "cell_type": "code",
      "execution_count": null,
      "metadata": {
        "id": "06OMA_Kz3L8D",
        "outputId": "521542cc-4253-4bd2-8698-98b90e65a92b"
      },
      "outputs": [
        {
          "name": "stdout",
          "output_type": "stream",
          "text": [
            "Original :  tomato_healthy\n",
            "Cherry : Powdery Mildew\n"
          ]
        },
        {
          "data": {
            "application/javascript": [
              "\n",
              "            setTimeout(function() {\n",
              "                var nbb_cell_id = 86;\n",
              "                var nbb_unformatted_code = \"single_prediction(\\\"test_images/tomato_healthy.JPG\\\")\";\n",
              "                var nbb_formatted_code = \"single_prediction(\\\"test_images/tomato_healthy.JPG\\\")\";\n",
              "                var nbb_cells = Jupyter.notebook.get_cells();\n",
              "                for (var i = 0; i < nbb_cells.length; ++i) {\n",
              "                    if (nbb_cells[i].input_prompt_number == nbb_cell_id) {\n",
              "                        if (nbb_cells[i].get_text() == nbb_unformatted_code) {\n",
              "                             nbb_cells[i].set_text(nbb_formatted_code);\n",
              "                        }\n",
              "                        break;\n",
              "                    }\n",
              "                }\n",
              "            }, 500);\n",
              "            "
            ],
            "text/plain": [
              "<IPython.core.display.Javascript object>"
            ]
          },
          "metadata": {},
          "output_type": "display_data"
        }
      ],
      "source": [
        "single_prediction(\"test_images/tomato_healthy.JPG\")"
      ]
    },
    {
      "cell_type": "code",
      "execution_count": null,
      "metadata": {
        "id": "d3xMUAL-3L8D",
        "outputId": "c664bf45-4718-4035-c9f1-2e6e10c1f360"
      },
      "outputs": [
        {
          "name": "stdout",
          "output_type": "stream",
          "text": [
            "Original :  tomato_late_blight\n",
            "Cherry : Powdery Mildew\n"
          ]
        },
        {
          "data": {
            "application/javascript": [
              "\n",
              "            setTimeout(function() {\n",
              "                var nbb_cell_id = 87;\n",
              "                var nbb_unformatted_code = \"single_prediction(\\\"test_images/tomato_late_blight.JPG\\\")\";\n",
              "                var nbb_formatted_code = \"single_prediction(\\\"test_images/tomato_late_blight.JPG\\\")\";\n",
              "                var nbb_cells = Jupyter.notebook.get_cells();\n",
              "                for (var i = 0; i < nbb_cells.length; ++i) {\n",
              "                    if (nbb_cells[i].input_prompt_number == nbb_cell_id) {\n",
              "                        if (nbb_cells[i].get_text() == nbb_unformatted_code) {\n",
              "                             nbb_cells[i].set_text(nbb_formatted_code);\n",
              "                        }\n",
              "                        break;\n",
              "                    }\n",
              "                }\n",
              "            }, 500);\n",
              "            "
            ],
            "text/plain": [
              "<IPython.core.display.Javascript object>"
            ]
          },
          "metadata": {},
          "output_type": "display_data"
        }
      ],
      "source": [
        "single_prediction(\"test_images/tomato_late_blight.JPG\")"
      ]
    },
    {
      "cell_type": "code",
      "execution_count": null,
      "metadata": {
        "id": "WumDBSCP3L8D",
        "outputId": "ffde32de-0be6-4054-8190-8f45a4c5d737"
      },
      "outputs": [
        {
          "name": "stdout",
          "output_type": "stream",
          "text": [
            "Original :  tomato_leaf_mold\n",
            "Cherry : Powdery Mildew\n"
          ]
        },
        {
          "data": {
            "application/javascript": [
              "\n",
              "            setTimeout(function() {\n",
              "                var nbb_cell_id = 88;\n",
              "                var nbb_unformatted_code = \"single_prediction(\\\"test_images/tomato_leaf_mold.JPG\\\")\";\n",
              "                var nbb_formatted_code = \"single_prediction(\\\"test_images/tomato_leaf_mold.JPG\\\")\";\n",
              "                var nbb_cells = Jupyter.notebook.get_cells();\n",
              "                for (var i = 0; i < nbb_cells.length; ++i) {\n",
              "                    if (nbb_cells[i].input_prompt_number == nbb_cell_id) {\n",
              "                        if (nbb_cells[i].get_text() == nbb_unformatted_code) {\n",
              "                             nbb_cells[i].set_text(nbb_formatted_code);\n",
              "                        }\n",
              "                        break;\n",
              "                    }\n",
              "                }\n",
              "            }, 500);\n",
              "            "
            ],
            "text/plain": [
              "<IPython.core.display.Javascript object>"
            ]
          },
          "metadata": {},
          "output_type": "display_data"
        }
      ],
      "source": [
        "single_prediction(\"test_images/tomato_leaf_mold.JPG\")"
      ]
    },
    {
      "cell_type": "code",
      "execution_count": null,
      "metadata": {
        "id": "_kfTp1xq3L8E",
        "outputId": "6d7f5653-127b-4832-8443-32819ff67f1b"
      },
      "outputs": [
        {
          "name": "stdout",
          "output_type": "stream",
          "text": [
            "Original :  tomato_mosaic_virus\n",
            "Cherry : Powdery Mildew\n"
          ]
        },
        {
          "data": {
            "application/javascript": [
              "\n",
              "            setTimeout(function() {\n",
              "                var nbb_cell_id = 89;\n",
              "                var nbb_unformatted_code = \"single_prediction(\\\"test_images/tomato_mosaic_virus.JPG\\\")\";\n",
              "                var nbb_formatted_code = \"single_prediction(\\\"test_images/tomato_mosaic_virus.JPG\\\")\";\n",
              "                var nbb_cells = Jupyter.notebook.get_cells();\n",
              "                for (var i = 0; i < nbb_cells.length; ++i) {\n",
              "                    if (nbb_cells[i].input_prompt_number == nbb_cell_id) {\n",
              "                        if (nbb_cells[i].get_text() == nbb_unformatted_code) {\n",
              "                             nbb_cells[i].set_text(nbb_formatted_code);\n",
              "                        }\n",
              "                        break;\n",
              "                    }\n",
              "                }\n",
              "            }, 500);\n",
              "            "
            ],
            "text/plain": [
              "<IPython.core.display.Javascript object>"
            ]
          },
          "metadata": {},
          "output_type": "display_data"
        }
      ],
      "source": [
        "single_prediction(\"test_images/tomato_mosaic_virus.JPG\")"
      ]
    },
    {
      "cell_type": "code",
      "execution_count": null,
      "metadata": {
        "id": "RkWMgJ3U3L8E",
        "outputId": "293eacd4-f0a2-424d-ecdd-0807f7b0ac4c"
      },
      "outputs": [
        {
          "name": "stdout",
          "output_type": "stream",
          "text": [
            "Original :  tomato_septoria_leaf_spot\n",
            "Cherry : Powdery Mildew\n"
          ]
        },
        {
          "data": {
            "application/javascript": [
              "\n",
              "            setTimeout(function() {\n",
              "                var nbb_cell_id = 90;\n",
              "                var nbb_unformatted_code = \"single_prediction(\\\"test_images/tomato_septoria_leaf_spot.JPG\\\")\";\n",
              "                var nbb_formatted_code = \"single_prediction(\\\"test_images/tomato_septoria_leaf_spot.JPG\\\")\";\n",
              "                var nbb_cells = Jupyter.notebook.get_cells();\n",
              "                for (var i = 0; i < nbb_cells.length; ++i) {\n",
              "                    if (nbb_cells[i].input_prompt_number == nbb_cell_id) {\n",
              "                        if (nbb_cells[i].get_text() == nbb_unformatted_code) {\n",
              "                             nbb_cells[i].set_text(nbb_formatted_code);\n",
              "                        }\n",
              "                        break;\n",
              "                    }\n",
              "                }\n",
              "            }, 500);\n",
              "            "
            ],
            "text/plain": [
              "<IPython.core.display.Javascript object>"
            ]
          },
          "metadata": {},
          "output_type": "display_data"
        }
      ],
      "source": [
        "single_prediction(\"test_images/tomato_septoria_leaf_spot.JPG\")"
      ]
    },
    {
      "cell_type": "code",
      "execution_count": null,
      "metadata": {
        "id": "whl9L1QG3L8E",
        "outputId": "383e5491-c039-44b4-f5e0-db35aafc168b"
      },
      "outputs": [
        {
          "name": "stdout",
          "output_type": "stream",
          "text": [
            "Original :  tomato_spider_mites_two_spotted_spider_mites\n",
            "Cherry : Powdery Mildew\n"
          ]
        },
        {
          "data": {
            "application/javascript": [
              "\n",
              "            setTimeout(function() {\n",
              "                var nbb_cell_id = 91;\n",
              "                var nbb_unformatted_code = \"single_prediction(\\\"test_images/tomato_spider_mites_two_spotted_spider_mites.JPG\\\")\";\n",
              "                var nbb_formatted_code = \"single_prediction(\\\"test_images/tomato_spider_mites_two_spotted_spider_mites.JPG\\\")\";\n",
              "                var nbb_cells = Jupyter.notebook.get_cells();\n",
              "                for (var i = 0; i < nbb_cells.length; ++i) {\n",
              "                    if (nbb_cells[i].input_prompt_number == nbb_cell_id) {\n",
              "                        if (nbb_cells[i].get_text() == nbb_unformatted_code) {\n",
              "                             nbb_cells[i].set_text(nbb_formatted_code);\n",
              "                        }\n",
              "                        break;\n",
              "                    }\n",
              "                }\n",
              "            }, 500);\n",
              "            "
            ],
            "text/plain": [
              "<IPython.core.display.Javascript object>"
            ]
          },
          "metadata": {},
          "output_type": "display_data"
        }
      ],
      "source": [
        "single_prediction(\"test_images/tomato_spider_mites_two_spotted_spider_mites.JPG\")"
      ]
    },
    {
      "cell_type": "code",
      "execution_count": null,
      "metadata": {
        "id": "rJDLeNky3L8E",
        "outputId": "d7e70acb-c5d8-4027-c6b1-a94f910f312a"
      },
      "outputs": [
        {
          "name": "stdout",
          "output_type": "stream",
          "text": [
            "Original :  tomato_target_spot\n",
            "Cherry : Powdery Mildew\n"
          ]
        },
        {
          "data": {
            "application/javascript": [
              "\n",
              "            setTimeout(function() {\n",
              "                var nbb_cell_id = 92;\n",
              "                var nbb_unformatted_code = \"single_prediction(\\\"test_images/tomato_target_spot.JPG\\\")\";\n",
              "                var nbb_formatted_code = \"single_prediction(\\\"test_images/tomato_target_spot.JPG\\\")\";\n",
              "                var nbb_cells = Jupyter.notebook.get_cells();\n",
              "                for (var i = 0; i < nbb_cells.length; ++i) {\n",
              "                    if (nbb_cells[i].input_prompt_number == nbb_cell_id) {\n",
              "                        if (nbb_cells[i].get_text() == nbb_unformatted_code) {\n",
              "                             nbb_cells[i].set_text(nbb_formatted_code);\n",
              "                        }\n",
              "                        break;\n",
              "                    }\n",
              "                }\n",
              "            }, 500);\n",
              "            "
            ],
            "text/plain": [
              "<IPython.core.display.Javascript object>"
            ]
          },
          "metadata": {},
          "output_type": "display_data"
        }
      ],
      "source": [
        "single_prediction(\"test_images/tomato_target_spot.JPG\")"
      ]
    },
    {
      "cell_type": "code",
      "execution_count": null,
      "metadata": {
        "id": "scLHzUP33L8F",
        "outputId": "6e7a61b0-1b6a-45c1-bdd2-a44009c66833"
      },
      "outputs": [
        {
          "name": "stdout",
          "output_type": "stream",
          "text": [
            "Original :  tomato_yellow_leaf_curl_virus\n",
            "Cherry : Powdery Mildew\n"
          ]
        },
        {
          "data": {
            "application/javascript": [
              "\n",
              "            setTimeout(function() {\n",
              "                var nbb_cell_id = 93;\n",
              "                var nbb_unformatted_code = \"single_prediction(\\\"test_images/tomato_yellow_leaf_curl_virus.JPG\\\")\";\n",
              "                var nbb_formatted_code = \"single_prediction(\\\"test_images/tomato_yellow_leaf_curl_virus.JPG\\\")\";\n",
              "                var nbb_cells = Jupyter.notebook.get_cells();\n",
              "                for (var i = 0; i < nbb_cells.length; ++i) {\n",
              "                    if (nbb_cells[i].input_prompt_number == nbb_cell_id) {\n",
              "                        if (nbb_cells[i].get_text() == nbb_unformatted_code) {\n",
              "                             nbb_cells[i].set_text(nbb_formatted_code);\n",
              "                        }\n",
              "                        break;\n",
              "                    }\n",
              "                }\n",
              "            }, 500);\n",
              "            "
            ],
            "text/plain": [
              "<IPython.core.display.Javascript object>"
            ]
          },
          "metadata": {},
          "output_type": "display_data"
        }
      ],
      "source": [
        "single_prediction(\"test_images/tomato_yellow_leaf_curl_virus.JPG\")"
      ]
    },
    {
      "cell_type": "code",
      "execution_count": null,
      "metadata": {
        "id": "T1jkboes3L8F"
      },
      "outputs": [],
      "source": []
    }
  ],
  "metadata": {
    "kernelspec": {
      "display_name": "Python 3 (ipykernel)",
      "language": "python",
      "name": "python3"
    },
    "language_info": {
      "codemirror_mode": {
        "name": "ipython",
        "version": 3
      },
      "file_extension": ".py",
      "mimetype": "text/x-python",
      "name": "python",
      "nbconvert_exporter": "python",
      "pygments_lexer": "ipython3",
      "version": "3.10.2"
    },
    "varInspector": {
      "cols": {
        "lenName": 16,
        "lenType": 16,
        "lenVar": 40
      },
      "kernels_config": {
        "python": {
          "delete_cmd_postfix": "",
          "delete_cmd_prefix": "del ",
          "library": "var_list.py",
          "varRefreshCmd": "print(var_dic_list())"
        },
        "r": {
          "delete_cmd_postfix": ") ",
          "delete_cmd_prefix": "rm(",
          "library": "var_list.r",
          "varRefreshCmd": "cat(var_dic_list()) "
        }
      },
      "types_to_exclude": [
        "module",
        "function",
        "builtin_function_or_method",
        "instance",
        "_Feature"
      ],
      "window_display": false
    },
    "colab": {
      "provenance": []
    },
    "accelerator": "GPU",
    "gpuClass": "standard"
  },
  "nbformat": 4,
  "nbformat_minor": 0
}