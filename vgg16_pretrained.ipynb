{
 "cells": [
  {
   "cell_type": "code",
   "execution_count": 1,
   "id": "22eb280b",
   "metadata": {
    "id": "22eb280b"
   },
   "outputs": [],
   "source": [
    "#importing the necessary libraries\n",
    "import numpy as np\n",
    "import pandas as pd\n",
    "import tensorflow as tf\n",
    "from tensorflow import keras \n",
    "from keras.preprocessing.image import ImageDataGenerator\n",
    "# from tensorflow.keras.preprocessing.image import image_dataset_from_directory\n",
    "# from keras.preprocessing.image import image_dataset_from_directory\n",
    "from keras.layers import Conv2D, Dense, MaxPooling2D, Dropout,Flatten\n",
    "from keras.models import Model\n",
    "from keras.applications.vgg16 import VGG16"
   ]
  },
  {
   "cell_type": "code",
   "execution_count": 2,
   "id": "5-aHT2-BBuLe",
   "metadata": {
    "id": "5-aHT2-BBuLe"
   },
   "outputs": [],
   "source": [
    "# pip install tf-nightly"
   ]
  },
  {
   "cell_type": "code",
   "execution_count": 3,
   "id": "_HD00iJ2ALle",
   "metadata": {
    "colab": {
     "base_uri": "https://localhost:8080/"
    },
    "id": "_HD00iJ2ALle",
    "outputId": "c2a01671-c070-461e-b6af-762c538d5c3e"
   },
   "outputs": [],
   "source": [
    "#from google.colab import drive\n",
    "#drive.mount('/content/drive')"
   ]
  },
  {
   "cell_type": "code",
   "execution_count": 4,
   "id": "qNLNlavADiKL",
   "metadata": {
    "id": "qNLNlavADiKL"
   },
   "outputs": [],
   "source": [
    "# !pip install rarfile  # Install the rarfile package if it's not already installed\n",
    "\n",
    "# import os\n",
    "# from rarfile import RarFile\n",
    "# from torchvision import transforms, datasets\n",
    "# # Define the path to the RAR file\n",
    "# rar_path = '/content/drive/MyDrive/Dataset.rar'\n",
    "\n",
    "# # Extract the RAR file to a temporary directory\n",
    "# with RarFile(rar_path, 'r') as rar:\n",
    "#     rar.extractall('/tmp/dataset')"
   ]
  },
  {
   "cell_type": "code",
   "execution_count": 5,
   "id": "5528cd83",
   "metadata": {
    "id": "5528cd83"
   },
   "outputs": [],
   "source": [
    "# applying different data augumentation methods to the training data\n",
    "train_gen = ImageDataGenerator(\n",
    "    rescale = 1./255,\n",
    "    rotation_range = 30,\n",
    "    shear_range = 0.2,\n",
    "    zoom_range = 0.2,\n",
    "    width_shift_range=0.05,\n",
    "    height_shift_range=0.05,\n",
    "    horizontal_flip = True,\n",
    "    fill_mode = 'nearest',\n",
    "    validation_split = 0.2\n",
    ")\n",
    "\n",
    "valid_gen = ImageDataGenerator(\n",
    "    rescale = 1/255,\n",
    "    validation_split=0.2\n",
    ")"
   ]
  },
  {
   "cell_type": "code",
   "execution_count": 6,
   "id": "1036e391",
   "metadata": {
    "id": "1036e391"
   },
   "outputs": [],
   "source": [
    "Image_size = (255, 255)\n",
    "Batch_size = 32"
   ]
  },
  {
   "cell_type": "code",
   "execution_count": 7,
   "id": "54867526",
   "metadata": {
    "colab": {
     "base_uri": "https://localhost:8080/"
    },
    "id": "54867526",
    "outputId": "4fb99a9c-05dc-4bdf-a363-e87952888a3f"
   },
   "outputs": [
    {
     "name": "stdout",
     "output_type": "stream",
     "text": [
      "Found 49197 images belonging to 39 classes.\n",
      "Found 12289 images belonging to 39 classes.\n"
     ]
    }
   ],
   "source": [
    "#Loading the training and validation data from the director\n",
    "data_dir = \"Dataset\"\n",
    "train_generator = train_gen.flow_from_directory(\n",
    "    data_dir,\n",
    "    target_size = Image_size,\n",
    "    batch_size = Batch_size,\n",
    "    subset= \"training\",\n",
    "    class_mode = \"categorical\",\n",
    "    color_mode = \"rgb\"\n",
    "    \n",
    ")\n",
    "\n",
    "valid_generator = valid_gen.flow_from_directory(\n",
    "    data_dir,\n",
    "    target_size = Image_size,\n",
    "    batch_size = Batch_size,\n",
    "    subset= \"validation\",\n",
    "    class_mode = \"categorical\",\n",
    "    color_mode = \"rgb\"\n",
    "    \n",
    "    \n",
    ")\n",
    "\n"
   ]
  },
  {
   "cell_type": "code",
   "execution_count": 8,
   "id": "67227e19",
   "metadata": {
    "id": "67227e19"
   },
   "outputs": [
    {
     "name": "stdout",
     "output_type": "stream",
     "text": [
      "Downloading data from https://storage.googleapis.com/tensorflow/keras-applications/vgg16/vgg16_weights_tf_dim_ordering_tf_kernels_notop.h5\n",
      "58889256/58889256 [==============================] - 10s 0us/step\n"
     ]
    }
   ],
   "source": [
    "model = VGG16(include_top=False, input_shape=(255,255,3), weights=\"imagenet\")\n",
    "for layer in model.layers:\n",
    "    layer.trainable = False\n",
    "x = Flatten()(model.output)\n",
    "dense1 = Dense(1024, activation=\"relu\")(x)\n",
    "prediction = Dense(39, activation=\"softmax\")(dense1)\n",
    "model = Model(inputs=model.inputs, outputs=prediction)"
   ]
  },
  {
   "cell_type": "code",
   "execution_count": 9,
   "id": "8b8141ca",
   "metadata": {
    "id": "8b8141ca"
   },
   "outputs": [],
   "source": [
    "model.compile(\n",
    "    optimizer = 'adam',\n",
    "    loss = tf.keras.losses.CategoricalCrossentropy(),\n",
    "    metrics  = ['accuracy']\n",
    "    )"
   ]
  },
  {
   "cell_type": "code",
   "execution_count": 10,
   "id": "eae782d1",
   "metadata": {
    "colab": {
     "base_uri": "https://localhost:8080/",
     "height": 259
    },
    "id": "eae782d1",
    "outputId": "7a62b5a0-0cee-4fc9-b284-74d437df629f",
    "scrolled": true
   },
   "outputs": [
    {
     "name": "stderr",
     "output_type": "stream",
     "text": [
      "C:\\Users\\aahnd\\AppData\\Local\\Temp/ipykernel_19684/2169345027.py:1: UserWarning: `Model.fit_generator` is deprecated and will be removed in a future version. Please use `Model.fit`, which supports generators.\n",
      "  history = model.fit_generator(\n"
     ]
    },
    {
     "name": "stdout",
     "output_type": "stream",
     "text": [
      "Epoch 1/5\n",
      "1537/1537 [==============================] - 9971s 6s/step - loss: 0.6774 - accuracy: 0.8106 - val_loss: 0.4007 - val_accuracy: 0.8667\n",
      "Epoch 2/5\n",
      "1537/1537 [==============================] - 9787s 6s/step - loss: 0.3601 - accuracy: 0.8807 - val_loss: 0.3325 - val_accuracy: 0.8942\n",
      "Epoch 3/5\n",
      "1537/1537 [==============================] - 9522s 6s/step - loss: 0.3123 - accuracy: 0.8971 - val_loss: 0.3092 - val_accuracy: 0.9011\n",
      "Epoch 4/5\n",
      "1537/1537 [==============================] - 9443s 6s/step - loss: 0.2728 - accuracy: 0.9104 - val_loss: 0.3119 - val_accuracy: 0.9056\n",
      "Epoch 5/5\n",
      "1537/1537 [==============================] - 9719s 6s/step - loss: 0.2643 - accuracy: 0.9146 - val_loss: 0.2524 - val_accuracy: 0.9282\n"
     ]
    }
   ],
   "source": [
    "history = model.fit_generator(\n",
    "        train_generator,\n",
    "        steps_per_epoch = train_generator.n // train_generator.batch_size,    #The 2 slashes division return rounded integer\n",
    "        epochs = 5,\n",
    "        validation_data = valid_generator,\n",
    "        validation_steps = valid_generator.n // valid_generator.batch_size\n",
    "        )"
   ]
  },
  {
   "cell_type": "code",
   "execution_count": 11,
   "id": "b8385a85",
   "metadata": {
    "id": "b8385a85"
   },
   "outputs": [],
   "source": [
    "model.save('final1_model.h5')"
   ]
  },
  {
   "cell_type": "code",
   "execution_count": null,
   "id": "60ed73ec",
   "metadata": {
    "id": "60ed73ec"
   },
   "outputs": [],
   "source": []
  }
 ],
 "metadata": {
  "accelerator": "GPU",
  "colab": {
   "provenance": []
  },
  "gpuClass": "standard",
  "kernelspec": {
   "display_name": "Python 3 (ipykernel)",
   "language": "python",
   "name": "python3"
  },
  "language_info": {
   "codemirror_mode": {
    "name": "ipython",
    "version": 3
   },
   "file_extension": ".py",
   "mimetype": "text/x-python",
   "name": "python",
   "nbconvert_exporter": "python",
   "pygments_lexer": "ipython3",
   "version": "3.9.7"
  },
  "papermill": {
   "default_parameters": {},
   "duration": 3964.9972,
   "end_time": "2021-12-24T11:13:55.995499",
   "environment_variables": {},
   "exception": null,
   "input_path": "__notebook__.ipynb",
   "output_path": "__notebook__.ipynb",
   "parameters": {},
   "start_time": "2021-12-24T10:07:50.998299",
   "version": "2.3.3"
  }
 },
 "nbformat": 4,
 "nbformat_minor": 5
}
